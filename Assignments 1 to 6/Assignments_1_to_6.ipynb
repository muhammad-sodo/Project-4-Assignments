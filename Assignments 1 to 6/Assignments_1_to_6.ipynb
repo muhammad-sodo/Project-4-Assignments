{
  "nbformat": 4,
  "nbformat_minor": 0,
  "metadata": {
    "colab": {
      "provenance": [],
      "authorship_tag": "ABX9TyO8284SatIiK42UT+OUa0PA",
      "include_colab_link": true
    },
    "kernelspec": {
      "name": "python3",
      "display_name": "Python 3"
    },
    "language_info": {
      "name": "python"
    }
  },
  "cells": [
    {
      "cell_type": "markdown",
      "metadata": {
        "id": "view-in-github",
        "colab_type": "text"
      },
      "source": [
        "<a href=\"https://colab.research.google.com/github/muhammad-sodo/online_projects/blob/main/Assignments_1_to_6.ipynb\" target=\"_parent\"><img src=\"https://colab.research.google.com/assets/colab-badge.svg\" alt=\"Open In Colab\"/></a>"
      ]
    },
    {
      "cell_type": "code",
      "execution_count": 1,
      "metadata": {
        "colab": {
          "base_uri": "https://localhost:8080/"
        },
        "id": "PfAbornwRRke",
        "outputId": "067a9ff9-8960-4ed8-d89b-75be6e7ebf8d"
      },
      "outputs": [
        {
          "output_type": "stream",
          "name": "stdout",
          "text": [
            "Enter a name: adam\n",
            "Enter a place: karachi\n",
            "Enter an animal: adamsodo@gmail.com\n",
            "Enter a favorite food: chicken tika\n",
            "Enter an emotion (like happy, sad): happy\n",
            "Enter an action verb (like run, sing): sing\n",
            "\n",
            "--- Your Mad Libs Story ---\n",
            "One day, adam was going to karachi. Suddenly, they saw a adamsodo@gmail.com eating chicken tika! adam felt very happy and immediately started to sing. It was a day they would never forget.\n"
          ]
        }
      ],
      "source": [
        "def mad_libs():\n",
        "    # Get inputs from the user\n",
        "    name = input(\"Enter a name: \")\n",
        "    place = input(\"Enter a place: \")\n",
        "    animal = input(\"Enter an animal: \")\n",
        "    food = input(\"Enter a favorite food: \")\n",
        "    emotion = input(\"Enter an emotion (like happy, sad): \")\n",
        "    verb = input(\"Enter an action verb (like run, sing): \")\n",
        "\n",
        "    # Create and print the story\n",
        "    story = (\n",
        "        f\"One day, {name} was going to {place}. \"\n",
        "        f\"Suddenly, they saw a {animal} eating {food}! \"\n",
        "        f\"{name} felt very {emotion} and immediately started to {verb}. \"\n",
        "        \"It was a day they would never forget.\"\n",
        "    )\n",
        "\n",
        "    print(\"\\n--- Your Mad Libs Story ---\")\n",
        "    print(story)\n",
        "\n",
        "# Run the program\n",
        "mad_libs()\n"
      ]
    },
    {
      "cell_type": "code",
      "source": [
        "import random\n",
        "\n",
        "def guess_the_number():\n",
        "    print(\"Welcome to the Guess the Number Game!\")\n",
        "    print(\"I'm thinking of a number between 1 and 100...\")\n",
        "\n",
        "    # Computer picks a random number\n",
        "    secret_number = random.randint(1, 100)\n",
        "    guess = None\n",
        "    attempts = 0\n",
        "\n",
        "    while guess != secret_number:\n",
        "        try:\n",
        "            guess = int(input(\"Enter your guess: \"))\n",
        "            attempts += 1\n",
        "\n",
        "            if guess < secret_number:\n",
        "                print(\"Too low! Try again.\")\n",
        "            elif guess > secret_number:\n",
        "                print(\"Too high! Try again.\")\n",
        "            else:\n",
        "                print(f\"🎉 Congrats! You guessed the number {secret_number} in {attempts} tries.\")\n",
        "        except ValueError:\n",
        "            print(\"Please enter a valid number.\")\n",
        "\n",
        "# Run the game\n",
        "guess_the_number()\n"
      ],
      "metadata": {
        "colab": {
          "base_uri": "https://localhost:8080/"
        },
        "id": "2EATQ8aoSl_a",
        "outputId": "81f71564-ca31-4fce-a530-140795294971"
      },
      "execution_count": 2,
      "outputs": [
        {
          "output_type": "stream",
          "name": "stdout",
          "text": [
            "Welcome to the Guess the Number Game!\n",
            "I'm thinking of a number between 1 and 100...\n",
            "Enter your guess: 96\n",
            "Too high! Try again.\n",
            "Enter your guess: 55\n",
            "Too low! Try again.\n",
            "Enter your guess: 70\n",
            "Too low! Try again.\n",
            "Enter your guess: 75\n",
            "Too low! Try again.\n",
            "Enter your guess: 85\n",
            "Too low! Try again.\n",
            "Enter your guess: 95\n",
            "Too high! Try again.\n",
            "Enter your guess: 90\n",
            "Too high! Try again.\n",
            "Enter your guess: 85\n",
            "Too low! Try again.\n",
            "Enter your guess: 88\n",
            "🎉 Congrats! You guessed the number 88 in 9 tries.\n"
          ]
        }
      ]
    },
    {
      "cell_type": "code",
      "source": [
        "import random\n",
        "\n",
        "def computer_guesses():\n",
        "    print(\"Think of a number between 1 and 100, and I'll try to guess it!\")\n",
        "    input(\"Press Enter when you're ready...\")\n",
        "\n",
        "    low = 1\n",
        "    high = 100\n",
        "    attempts = 0\n",
        "    feedback = ''\n",
        "\n",
        "    while feedback != 'c':\n",
        "        if low != high:\n",
        "            guess = random.randint(low, high)\n",
        "        else:\n",
        "            guess = low  # or high, since both are same\n",
        "        attempts += 1\n",
        "        print(f\"My guess is: {guess}\")\n",
        "\n",
        "        feedback = input(\"Is it too (H)igh, too (L)ow, or (C)orrect? \").lower()\n",
        "\n",
        "        if feedback == 'h':\n",
        "            high = guess - 1\n",
        "        elif feedback == 'l':\n",
        "            low = guess + 1\n",
        "        elif feedback != 'c':\n",
        "            print(\"Please enter 'H' for high, 'L' for low, or 'C' for correct.\")\n",
        "\n",
        "    print(f\"🎉 Yay! I guessed your number {guess} in {attempts} tries!\")\n",
        "\n",
        "# Run the game\n",
        "computer_guesses()\n"
      ],
      "metadata": {
        "colab": {
          "base_uri": "https://localhost:8080/"
        },
        "id": "4s1EyKMmTziJ",
        "outputId": "f96e0575-3258-45c7-a968-7c900593f861"
      },
      "execution_count": 3,
      "outputs": [
        {
          "output_type": "stream",
          "name": "stdout",
          "text": [
            "Think of a number between 1 and 100, and I'll try to guess it!\n",
            "Press Enter when you're ready...77\n",
            "My guess is: 14\n",
            "Is it too (H)igh, too (L)ow, or (C)orrect? L\n",
            "My guess is: 80\n",
            "Is it too (H)igh, too (L)ow, or (C)orrect? H\n",
            "My guess is: 59\n",
            "Is it too (H)igh, too (L)ow, or (C)orrect? L\n",
            "My guess is: 74\n",
            "Is it too (H)igh, too (L)ow, or (C)orrect? L\n",
            "My guess is: 76\n",
            "Is it too (H)igh, too (L)ow, or (C)orrect? L\n",
            "My guess is: 79\n",
            "Is it too (H)igh, too (L)ow, or (C)orrect? H\n",
            "My guess is: 77\n",
            "Is it too (H)igh, too (L)ow, or (C)orrect? C\n",
            "🎉 Yay! I guessed your number 77 in 7 tries!\n"
          ]
        }
      ]
    },
    {
      "cell_type": "code",
      "source": [
        "import random\n",
        "\n",
        "def play_game():\n",
        "    options = ['rock', 'paper', 'scissors']\n",
        "    computer = random.choice(options)\n",
        "\n",
        "    user = input(\"Choose rock, paper, or scissors: \").lower()\n",
        "\n",
        "    if user not in options:\n",
        "        print(\"Invalid choice. Please choose rock, paper, or scissors.\")\n",
        "        return\n",
        "\n",
        "    print(f\"You chose: {user}\")\n",
        "    print(f\"Computer chose: {computer}\")\n",
        "\n",
        "    if user == computer:\n",
        "        print(\"It's a tie!\")\n",
        "    elif (user == 'rock' and computer == 'scissors') or \\\n",
        "         (user == 'paper' and computer == 'rock') or \\\n",
        "         (user == 'scissors' and computer == 'paper'):\n",
        "        print(\"You win! 🎉\")\n",
        "    else:\n",
        "        print(\"Computer wins! 💻\")\n",
        "\n",
        "# Run the game\n",
        "play_game()\n"
      ],
      "metadata": {
        "colab": {
          "base_uri": "https://localhost:8080/"
        },
        "id": "lZXNQpj7UuaW",
        "outputId": "81e510bc-131d-4fcf-ba7f-0484779a8a09"
      },
      "execution_count": 4,
      "outputs": [
        {
          "output_type": "stream",
          "name": "stdout",
          "text": [
            "Choose rock, paper, or scissors: rock\n",
            "You chose: rock\n",
            "Computer chose: scissors\n",
            "You win! 🎉\n"
          ]
        }
      ]
    },
    {
      "cell_type": "code",
      "source": [
        "import random\n",
        "import string\n",
        "\n",
        "def get_random_word(word_list):\n",
        "    return random.choice(word_list).upper()\n",
        "\n",
        "def display_word(word, guessed_letters):\n",
        "    return ' '.join([letter if letter in guessed_letters else '_' for letter in word])\n",
        "\n",
        "def play_hangman():\n",
        "    word_list = ['python', 'developer', 'hangman', 'challenge', 'programming']\n",
        "    word_to_guess = get_random_word(word_list)\n",
        "    guessed_letters = set()\n",
        "    tries = 6\n",
        "\n",
        "    print(\"🎯 Welcome to Hangman!\")\n",
        "    print(\"_ \" * len(word_to_guess))\n",
        "\n",
        "    while tries > 0 and set(word_to_guess) != guessed_letters:\n",
        "        guess = input(\"Guess a letter: \").upper()\n",
        "\n",
        "        if len(guess) != 1 or guess not in string.ascii_uppercase:\n",
        "            print(\"Please enter a valid single letter.\")\n",
        "            continue\n",
        "\n",
        "        if guess in guessed_letters:\n",
        "            print(\"You already guessed that letter.\")\n",
        "            continue\n",
        "\n",
        "        if guess in word_to_guess:\n",
        "            guessed_letters.add(guess)\n",
        "            print(\"Good guess!\")\n",
        "        else:\n",
        "            tries -= 1\n",
        "            print(f\"Wrong guess! You have {tries} tries left.\")\n",
        "\n",
        "        print(display_word(word_to_guess, guessed_letters))\n",
        "\n",
        "    if set(word_to_guess) == guessed_letters:\n",
        "        print(f\"🎉 Congratulations! You guessed the word: {word_to_guess}\")\n",
        "    else:\n",
        "        print(f\"💀 Out of tries. The word was: {word_to_guess}\")\n",
        "\n",
        "# Start the game\n",
        "play_hangman()\n"
      ],
      "metadata": {
        "colab": {
          "base_uri": "https://localhost:8080/"
        },
        "id": "gDHFwy61VIj4",
        "outputId": "437fc4c8-f355-4239-cf7f-ed55764ce344"
      },
      "execution_count": 5,
      "outputs": [
        {
          "output_type": "stream",
          "name": "stdout",
          "text": [
            "🎯 Welcome to Hangman!\n",
            "_ _ _ _ _ _ _ \n",
            "Guess a letter: f\n",
            "Wrong guess! You have 5 tries left.\n",
            "_ _ _ _ _ _ _\n",
            "Guess a letter: m\n",
            "Good guess!\n",
            "_ _ _ _ M _ _\n",
            "Guess a letter: u\n",
            "Wrong guess! You have 4 tries left.\n",
            "_ _ _ _ M _ _\n",
            "Guess a letter: g\n",
            "Good guess!\n",
            "_ _ _ G M _ _\n",
            "Guess a letter: s\n",
            "Wrong guess! You have 3 tries left.\n",
            "_ _ _ G M _ _\n",
            "Guess a letter: d\n",
            "Wrong guess! You have 2 tries left.\n",
            "_ _ _ G M _ _\n",
            "Guess a letter: a\n",
            "Good guess!\n",
            "_ A _ G M A _\n",
            "Guess a letter: i\n",
            "Wrong guess! You have 1 tries left.\n",
            "_ A _ G M A _\n",
            "Guess a letter: l\n",
            "Wrong guess! You have 0 tries left.\n",
            "_ A _ G M A _\n",
            "💀 Out of tries. The word was: HANGMAN\n"
          ]
        }
      ]
    },
    {
      "cell_type": "code",
      "source": [
        "import time\n",
        "\n",
        "def countdown_timer(seconds):\n",
        "    while seconds:\n",
        "        mins, secs = divmod(seconds, 60)\n",
        "        timer = f'{mins:02d}:{secs:02d}'\n",
        "        print(timer, end='\\r')  # Overwrites the same line\n",
        "        time.sleep(1)\n",
        "        seconds -= 1\n",
        "    print(\"⏰ Time's up!\")\n",
        "\n",
        "# Example usage\n",
        "try:\n",
        "    total_seconds = int(input(\"Enter the countdown time in seconds: \"))\n",
        "    countdown_timer(total_seconds)\n",
        "except ValueError:\n",
        "    print(\"Please enter a valid number.\")\n"
      ],
      "metadata": {
        "colab": {
          "base_uri": "https://localhost:8080/"
        },
        "id": "g5xwoYq2V_0g",
        "outputId": "5aefcca5-13c8-4255-f202-89fc5f72116e"
      },
      "execution_count": 6,
      "outputs": [
        {
          "output_type": "stream",
          "name": "stdout",
          "text": [
            "Enter the countdown time in seconds: 4\n",
            "⏰ Time's up!\n"
          ]
        }
      ]
    },
    {
      "cell_type": "code",
      "source": [
        "import random\n",
        "import string\n",
        "\n",
        "def generate_password(length):\n",
        "    characters = string.ascii_letters + string.digits + string.punctuation\n",
        "    password = ''.join(random.choice(characters) for _ in range(length))\n",
        "    return password\n",
        "\n",
        "def main():\n",
        "    try:\n",
        "        num_passwords = int(input(\"How many passwords would you like to generate? \"))\n",
        "        length = int(input(\"How long should each password be? \"))\n",
        "\n",
        "        print(\"\\nGenerated Passwords:\")\n",
        "        for _ in range(num_passwords):\n",
        "            print(generate_password(length))\n",
        "\n",
        "    except ValueError:\n",
        "        print(\"Please enter valid numbers for password count and length.\")\n",
        "\n",
        "if __name__ == \"__main__\":\n",
        "    main()\n"
      ],
      "metadata": {
        "colab": {
          "base_uri": "https://localhost:8080/"
        },
        "id": "8IJLXczJWS53",
        "outputId": "5e9ddd18-1f60-4217-aa2c-fada235de6fc"
      },
      "execution_count": 7,
      "outputs": [
        {
          "output_type": "stream",
          "name": "stdout",
          "text": [
            "How many passwords would you like to generate? 2\n",
            "How long should each password be? 8\n",
            "\n",
            "Generated Passwords:\n",
            "D~HL,H!7\n",
            "Pk96Bk@0\n"
          ]
        }
      ]
    },
    {
      "cell_type": "code",
      "source": [
        "import streamlit as st\n",
        "\n",
        "def calculate_bmi(weight, height):\n",
        "    bmi = weight / (height ** 2)\n",
        "    return round(bmi, 2)\n",
        "\n",
        "# Streamlit UI\n",
        "st.title(\"BMI Calculator\")\n",
        "st.write(\"Calculate your Body Mass Index\")\n",
        "\n",
        "# Input fields\n",
        "weight = st.number_input(\"Enter your weight (kg)\", min_value=1.0)\n",
        "height = st.number_input(\"Enter your height (meters)\", min_value=0.1)\n",
        "\n",
        "# Button to calculate BMI\n",
        "if st.button(\"Calculate BMI\"):\n",
        "    bmi = calculate_bmi(weight, height)\n",
        "    st.success(f\"Your BMI is: {bmi}\")\n",
        "\n",
        "    # Give feedback\n",
        "    if bmi < 18.5:\n",
        "        st.info(\"You are underweight.\")\n",
        "    elif 18.5 <= bmi < 25:\n",
        "        st.success(\"You have a normal weight.\")\n",
        "    elif 25 <= bmi < 30:\n",
        "        st.warning(\"You are overweight.\")\n",
        "    else:\n",
        "        st.error(\"You are obese.\")\n"
      ],
      "metadata": {
        "id": "RRwBp9g3YuC3"
      },
      "execution_count": null,
      "outputs": []
    },
    {
      "cell_type": "code",
      "source": [
        "import streamlit as st\n",
        "\n",
        "# Website title\n",
        "st.set_page_config(page_title=\"My Streamlit Website\", layout=\"wide\")\n",
        "st.title(\"👋 Welcome to My Website\")\n",
        "\n",
        "# Sidebar navigation\n",
        "st.sidebar.title(\"Navigation\")\n",
        "section = st.sidebar.radio(\"Go to\", [\"Home\", \"About Me\", \"Projects\", \"Contact\"])\n",
        "\n",
        "# Home Section\n",
        "if section == \"Home\":\n",
        "    st.image(\"https://source.unsplash.com/800x300/?technology,python\", use_column_width=True)\n",
        "    st.markdown(\"\"\"\n",
        "        ## Hello there!\n",
        "        I'm glad you're here. This website is built entirely with **Python and Streamlit**.\n",
        "        Use the sidebar to explore different sections of my site.\n",
        "    \"\"\")\n",
        "\n",
        "# About Me Section\n",
        "elif section == \"About Me\":\n",
        "    st.subheader(\"About Me\")\n",
        "    st.write(\"\"\"\n",
        "        I'm a Python developer who loves building web apps and automation tools.\n",
        "        I enjoy learning about AI, data science, and sharing projects with others.\n",
        "    \"\"\")\n",
        "\n",
        "# Projects Section\n",
        "elif section == \"Projects\":\n",
        "    st.subheader(\"Projects\")\n",
        "    st.markdown(\"\"\"\n",
        "    - ✅ BMI Calculator App\n",
        "    - ✅ Random Password Generator\n",
        "    - ✅ Rock Paper Scissors Game\n",
        "    - ✅ Countdown Timer\n",
        "    - ✅ And more coming soon!\n",
        "    \"\"\")\n",
        "\n",
        "# Contact Section\n",
        "elif section == \"Contact\":\n",
        "    st.subheader(\"Contact Me\")\n",
        "    name = st.text_input(\"Your Name\")\n",
        "    message = st.text_area(\"Your Message\")\n",
        "    if st.button(\"Send\"):\n",
        "        st.success(\"Thank you! I'll get back to you soon.\")\n",
        "\n"
      ],
      "metadata": {
        "id": "UPBReKPEZ4Yj"
      },
      "execution_count": null,
      "outputs": []
    }
  ]
}