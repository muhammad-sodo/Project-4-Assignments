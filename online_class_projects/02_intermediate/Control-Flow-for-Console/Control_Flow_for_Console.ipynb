{
  "nbformat": 4,
  "nbformat_minor": 0,
  "metadata": {
    "colab": {
      "provenance": [],
      "authorship_tag": "ABX9TyPA4Z0iR5BoqKoVuwZQ8Htn",
      "include_colab_link": true
    },
    "kernelspec": {
      "name": "python3",
      "display_name": "Python 3"
    },
    "language_info": {
      "name": "python"
    }
  },
  "cells": [
    {
      "cell_type": "markdown",
      "metadata": {
        "id": "view-in-github",
        "colab_type": "text"
      },
      "source": [
        "<a href=\"https://colab.research.google.com/github/muhammad-sodo/Control-Flow-for-Console/blob/main/Control_Flow_for_Console.ipynb\" target=\"_parent\"><img src=\"https://colab.research.google.com/assets/colab-badge.svg\" alt=\"Open In Colab\"/></a>"
      ]
    },
    {
      "cell_type": "code",
      "execution_count": null,
      "metadata": {
        "id": "ttXUoxKWyDwy"
      },
      "outputs": [],
      "source": [
        "import random\n",
        "\n",
        "NUM_ROUNDS = 5  # You can change this for more or fewer rounds\n",
        "\n",
        "def main():\n",
        "    print(\"Welcome to the High-Low Game!\")\n",
        "    print(\"--------------------------------\")\n",
        "\n",
        "    score = 0  # Player's score\n",
        "\n",
        "    for round_num in range(1, NUM_ROUNDS + 1):\n",
        "        print(f\"Round {round_num}\")\n",
        "\n",
        "        player_num = random.randint(1, 100)\n",
        "        computer_num = random.randint(1, 100)\n",
        "\n",
        "        print(f\"Your number is {player_num}\")\n",
        "\n",
        "        # Get valid input from user\n",
        "        guess = input(\"Do you think your number is higher or lower than the computer's?: \").lower()\n",
        "        while guess not in [\"higher\", \"lower\"]:\n",
        "            guess = input(\"Please enter either higher or lower: \").lower()\n",
        "\n",
        "        # Evaluate the guess\n",
        "        is_correct = False\n",
        "        if guess == \"higher\" and player_num > computer_num:\n",
        "            is_correct = True\n",
        "        elif guess == \"lower\" and player_num < computer_num:\n",
        "            is_correct = True\n",
        "\n",
        "        if is_correct:\n",
        "            print(f\"You were right! The computer's number was {computer_num}\")\n",
        "            score += 1\n",
        "        else:\n",
        "            print(f\"Aww, that's incorrect. The computer's number was {computer_num}\")\n",
        "\n",
        "        print(f\"Your score is now {score}\")\n",
        "        print()  # Blank line between rounds\n",
        "\n",
        "    # End of game\n",
        "    print(\"Thanks for playing!\")\n",
        "\n",
        "    # Conditional ending message\n",
        "    if score == NUM_ROUNDS:\n",
        "        print(\"Wow! You played perfectly!\")\n",
        "    elif score >= NUM_ROUNDS // 2:\n",
        "        print(\"Good job, you played really well!\")\n",
        "    else:\n",
        "        print(\"Better luck next time!\")\n",
        "\n",
        "if __name__ == \"__main__\":\n",
        "    main()\n"
      ]
    }
  ]
}