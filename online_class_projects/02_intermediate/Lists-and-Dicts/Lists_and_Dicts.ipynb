{
  "nbformat": 4,
  "nbformat_minor": 0,
  "metadata": {
    "colab": {
      "provenance": [],
      "authorship_tag": "ABX9TyNvyelstAAk4gFyGb1Rfdw2",
      "include_colab_link": true
    },
    "kernelspec": {
      "name": "python3",
      "display_name": "Python 3"
    },
    "language_info": {
      "name": "python"
    }
  },
  "cells": [
    {
      "cell_type": "markdown",
      "metadata": {
        "id": "view-in-github",
        "colab_type": "text"
      },
      "source": [
        "<a href=\"https://colab.research.google.com/github/muhammad-sodo/Lists-and-Dicts/blob/main/Lists_and_Dicts.ipynb\" target=\"_parent\"><img src=\"https://colab.research.google.com/assets/colab-badge.svg\" alt=\"Open In Colab\"/></a>"
      ]
    },
    {
      "cell_type": "code",
      "execution_count": null,
      "metadata": {
        "id": "1O9t_9Ph0hgJ"
      },
      "outputs": [],
      "source": [
        "def access_element(lst, index):\n",
        "    if 0 <= index < len(lst):\n",
        "        return f\"Element at index {index}: {lst[index]}\"\n",
        "    else:\n",
        "        return \"Index out of range!\"\n",
        "\n",
        "def modify_element(lst, index, new_value):\n",
        "    if 0 <= index < len(lst):\n",
        "        lst[index] = new_value\n",
        "        return f\"Element at index {index} updated to {new_value}\"\n",
        "    else:\n",
        "        return \"Index out of range!\"\n",
        "\n",
        "def slice_list(lst, start, end):\n",
        "    if start < 0 or end > len(lst) or start > end:\n",
        "        return \"Invalid slice range!\"\n",
        "    return lst[start:end]\n",
        "\n",
        "def game():\n",
        "    my_list = ['red', 'blue', 'green', 'yellow', 'purple']\n",
        "\n",
        "    while True:\n",
        "        print(\"\\nCurrent list:\", my_list)\n",
        "        print(\"Choose an operation: access / modify / slice / quit\")\n",
        "        choice = input(\"Enter your choice: \").lower()\n",
        "\n",
        "        if choice == 'access':\n",
        "            idx = int(input(\"Enter the index to access: \"))\n",
        "            print(access_element(my_list, idx))\n",
        "\n",
        "        elif choice == 'modify':\n",
        "            idx = int(input(\"Enter the index to modify: \"))\n",
        "            new_val = input(\"Enter the new value: \")\n",
        "            print(modify_element(my_list, idx, new_val))\n",
        "\n",
        "        elif choice == 'slice':\n",
        "            start = int(input(\"Enter start index: \"))\n",
        "            end = int(input(\"Enter end index: \"))\n",
        "            print(\"Sliced list:\", slice_list(my_list, start, end))\n",
        "\n",
        "        elif choice == 'quit':\n",
        "            print(\"Thanks for playing!\")\n",
        "            break\n",
        "\n",
        "        else:\n",
        "            print(\"Invalid choice. Try again.\")\n",
        "\n",
        "if __name__ == \"__main__\":\n",
        "    game()\n"
      ]
    }
  ]
}