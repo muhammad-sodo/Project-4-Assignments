{
  "nbformat": 4,
  "nbformat_minor": 0,
  "metadata": {
    "colab": {
      "provenance": [],
      "authorship_tag": "ABX9TyMDhHNFtFlQedHztV3LZnKq",
      "include_colab_link": true
    },
    "kernelspec": {
      "name": "python3",
      "display_name": "Python 3"
    },
    "language_info": {
      "name": "python"
    }
  },
  "cells": [
    {
      "cell_type": "markdown",
      "metadata": {
        "id": "view-in-github",
        "colab_type": "text"
      },
      "source": [
        "<a href=\"https://colab.research.google.com/github/muhammad-sodo/Intro-to-Python/blob/main/Intro_to_Python.ipynb\" target=\"_parent\"><img src=\"https://colab.research.google.com/assets/colab-badge.svg\" alt=\"Open In Colab\"/></a>"
      ]
    },
    {
      "cell_type": "code",
      "execution_count": null,
      "metadata": {
        "id": "tDN_3dfWzU2c"
      },
      "outputs": [],
      "source": [
        "# Define gravitational constants for each planet\n",
        "MERCURY_GRAVITY = 0.376\n",
        "VENUS_GRAVITY = 0.889\n",
        "MARS_GRAVITY = 0.378\n",
        "JUPITER_GRAVITY = 2.36\n",
        "SATURN_GRAVITY = 1.081\n",
        "URANUS_GRAVITY = 0.815\n",
        "NEPTUNE_GRAVITY = 1.14\n",
        "\n",
        "# Prompt the user for their weight on Earth\n",
        "earth_weight = float(input(\"Enter a weight on Earth: \"))\n",
        "\n",
        "# Prompt the user for the name of a planet\n",
        "planet = input(\"Enter a planet: \")\n",
        "\n",
        "# Determine the gravitational constant for the selected planet\n",
        "if planet == \"Mercury\":\n",
        "    gravity_constant = MERCURY_GRAVITY\n",
        "elif planet == \"Venus\":\n",
        "    gravity_constant = VENUS_GRAVITY\n",
        "elif planet == \"Mars\":\n",
        "    gravity_constant = MARS_GRAVITY\n",
        "elif planet == \"Jupiter\":\n",
        "    gravity_constant = JUPITER_GRAVITY\n",
        "elif planet == \"Saturn\":\n",
        "    gravity_constant = SATURN_GRAVITY\n",
        "elif planet == \"Uranus\":\n",
        "    gravity_constant = URANUS_GRAVITY\n",
        "else:\n",
        "    # Assume it's Neptune if none of the above\n",
        "    gravity_constant = NEPTUNE_GRAVITY\n",
        "\n",
        "# Calculate the equivalent weight on the selected planet\n",
        "planetary_weight = earth_weight * gravity_constant\n",
        "rounded_planetary_weight = round(planetary_weight, 2)\n",
        "\n",
        "# Print the result\n",
        "print(\"The equivalent weight on \" + planet + \": \" + str(rounded_planetary_weight))\n",
        "87\n",
        "\n"
      ]
    }
  ]
}