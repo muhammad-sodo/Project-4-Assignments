{
  "nbformat": 4,
  "nbformat_minor": 0,
  "metadata": {
    "colab": {
      "provenance": [],
      "authorship_tag": "ABX9TyNUwyVvU1O4HIEcN0K5rxml",
      "include_colab_link": true
    },
    "kernelspec": {
      "name": "python3",
      "display_name": "Python 3"
    },
    "language_info": {
      "name": "python"
    }
  },
  "cells": [
    {
      "cell_type": "markdown",
      "metadata": {
        "id": "view-in-github",
        "colab_type": "text"
      },
      "source": [
        "<a href=\"https://colab.research.google.com/github/muhammad-sodo/online_projects/blob/main/02_intermediate.ipynb\" target=\"_parent\"><img src=\"https://colab.research.google.com/assets/colab-badge.svg\" alt=\"Open In Colab\"/></a>"
      ]
    },
    {
      "cell_type": "code",
      "source": [
        "import random\n",
        "\n",
        "NUM_ROUNDS = 5  # You can change this for more or fewer rounds\n",
        "\n",
        "def main():\n",
        "    print(\"Welcome to the High-Low Game!\")\n",
        "    print(\"--------------------------------\")\n",
        "\n",
        "    score = 0  # Player's score\n",
        "\n",
        "    for round_num in range(1, NUM_ROUNDS + 1):\n",
        "        print(f\"Round {round_num}\")\n",
        "\n",
        "        player_num = random.randint(1, 100)\n",
        "        computer_num = random.randint(1, 100)\n",
        "\n",
        "        print(f\"Your number is {player_num}\")\n",
        "\n",
        "        # Get valid input from user\n",
        "        guess = input(\"Do you think your number is higher or lower than the computer's?: \").lower()\n",
        "        while guess not in [\"higher\", \"lower\"]:\n",
        "            guess = input(\"Please enter either higher or lower: \").lower()\n",
        "\n",
        "        # Evaluate the guess\n",
        "        is_correct = False\n",
        "        if guess == \"higher\" and player_num > computer_num:\n",
        "            is_correct = True\n",
        "        elif guess == \"lower\" and player_num < computer_num:\n",
        "            is_correct = True\n",
        "\n",
        "        if is_correct:\n",
        "            print(f\"You were right! The computer's number was {computer_num}\")\n",
        "            score += 1\n",
        "        else:\n",
        "            print(f\"Aww, that's incorrect. The computer's number was {computer_num}\")\n",
        "\n",
        "        print(f\"Your score is now {score}\")\n",
        "        print()  # Blank line between rounds\n",
        "\n",
        "    # End of game\n",
        "    print(\"Thanks for playing!\")\n",
        "\n",
        "    # Conditional ending message\n",
        "    if score == NUM_ROUNDS:\n",
        "        print(\"Wow! You played perfectly!\")\n",
        "    elif score >= NUM_ROUNDS // 2:\n",
        "        print(\"Good job, you played really well!\")\n",
        "    else:\n",
        "        print(\"Better luck next time!\")\n",
        "\n",
        "if __name__ == \"__main__\":\n",
        "    main()\n"
      ],
      "metadata": {
        "id": "mwdFRdiGmPNi"
      },
      "execution_count": null,
      "outputs": []
    },
    {
      "cell_type": "code",
      "source": [
        "# Define gravitational constants for each planet\n",
        "MERCURY_GRAVITY = 0.376\n",
        "VENUS_GRAVITY = 0.889\n",
        "MARS_GRAVITY = 0.378\n",
        "JUPITER_GRAVITY = 2.36\n",
        "SATURN_GRAVITY = 1.081\n",
        "URANUS_GRAVITY = 0.815\n",
        "NEPTUNE_GRAVITY = 1.14\n",
        "\n",
        "# Prompt the user for their weight on Earth\n",
        "earth_weight = float(input(\"Enter a weight on Earth: \"))\n",
        "\n",
        "# Prompt the user for the name of a planet\n",
        "planet = input(\"Enter a planet: \")\n",
        "\n",
        "# Determine the gravitational constant for the selected planet\n",
        "if planet == \"Mercury\":\n",
        "    gravity_constant = MERCURY_GRAVITY\n",
        "elif planet == \"Venus\":\n",
        "    gravity_constant = VENUS_GRAVITY\n",
        "elif planet == \"Mars\":\n",
        "    gravity_constant = MARS_GRAVITY\n",
        "elif planet == \"Jupiter\":\n",
        "    gravity_constant = JUPITER_GRAVITY\n",
        "elif planet == \"Saturn\":\n",
        "    gravity_constant = SATURN_GRAVITY\n",
        "elif planet == \"Uranus\":\n",
        "    gravity_constant = URANUS_GRAVITY\n",
        "else:\n",
        "    # Assume it's Neptune if none of the above\n",
        "    gravity_constant = NEPTUNE_GRAVITY\n",
        "\n",
        "# Calculate the equivalent weight on the selected planet\n",
        "planetary_weight = earth_weight * gravity_constant\n",
        "rounded_planetary_weight = round(planetary_weight, 2)\n",
        "\n",
        "# Print the result\n",
        "print(\"The equivalent weight on \" + planet + \": \" + str(rounded_planetary_weight))\n",
        "87\n",
        "\n"
      ],
      "metadata": {
        "colab": {
          "base_uri": "https://localhost:8080/"
        },
        "id": "BJ7Za8-hZj0_",
        "outputId": "9cf0920b-77d3-41c1-b0a1-0d2512216a4d"
      },
      "execution_count": 2,
      "outputs": [
        {
          "output_type": "stream",
          "name": "stdout",
          "text": [
            "Enter a weight on Earth: 65\n",
            "Enter a planet: 87\n",
            "The equivalent weight on 87: 74.1\n"
          ]
        }
      ]
    },
    {
      "cell_type": "code",
      "source": [
        "def access_element(lst, index):\n",
        "    if 0 <= index < len(lst):\n",
        "        return f\"Element at index {index}: {lst[index]}\"\n",
        "    else:\n",
        "        return \"Index out of range!\"\n",
        "\n",
        "def modify_element(lst, index, new_value):\n",
        "    if 0 <= index < len(lst):\n",
        "        lst[index] = new_value\n",
        "        return f\"Element at index {index} updated to {new_value}\"\n",
        "    else:\n",
        "        return \"Index out of range!\"\n",
        "\n",
        "def slice_list(lst, start, end):\n",
        "    if start < 0 or end > len(lst) or start > end:\n",
        "        return \"Invalid slice range!\"\n",
        "    return lst[start:end]\n",
        "\n",
        "def game():\n",
        "    my_list = ['red', 'blue', 'green', 'yellow', 'purple']\n",
        "\n",
        "    while True:\n",
        "        print(\"\\nCurrent list:\", my_list)\n",
        "        print(\"Choose an operation: access / modify / slice / quit\")\n",
        "        choice = input(\"Enter your choice: \").lower()\n",
        "\n",
        "        if choice == 'access':\n",
        "            idx = int(input(\"Enter the index to access: \"))\n",
        "            print(access_element(my_list, idx))\n",
        "\n",
        "        elif choice == 'modify':\n",
        "            idx = int(input(\"Enter the index to modify: \"))\n",
        "            new_val = input(\"Enter the new value: \")\n",
        "            print(modify_element(my_list, idx, new_val))\n",
        "\n",
        "        elif choice == 'slice':\n",
        "            start = int(input(\"Enter start index: \"))\n",
        "            end = int(input(\"Enter end index: \"))\n",
        "            print(\"Sliced list:\", slice_list(my_list, start, end))\n",
        "\n",
        "        elif choice == 'quit':\n",
        "            print(\"Thanks for playing!\")\n",
        "            break\n",
        "\n",
        "        else:\n",
        "            print(\"Invalid choice. Try again.\")\n",
        "\n",
        "if __name__ == \"__main__\":\n",
        "    game()\n"
      ],
      "metadata": {
        "id": "nWlaYiimeuDp"
      },
      "execution_count": null,
      "outputs": []
    },
    {
      "cell_type": "code",
      "source": [
        "Current list: ['red', 'blue', 'green', 'yellow', 'purple']\n",
        "Choose an operation: access / modify / slice / quit\n",
        "Enter your choice: access\n",
        "Enter the index to access: 2\n",
        "Element at index 2: green\n"
      ],
      "metadata": {
        "id": "5rVwOGLIe1sZ"
      },
      "execution_count": null,
      "outputs": []
    }
  ]
}