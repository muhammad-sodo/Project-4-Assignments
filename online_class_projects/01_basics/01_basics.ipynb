{
  "cells": [
    {
      "cell_type": "markdown",
      "metadata": {
        "colab_type": "text",
        "id": "view-in-github"
      },
      "source": [
        "<a href=\"https://colab.research.google.com/github/muhammad-sodo/online_projects/blob/main/01_basics.ipynb\" target=\"_parent\"><img src=\"https://colab.research.google.com/assets/colab-badge.svg\" alt=\"Open In Colab\"/></a>"
      ]
    },
    {
      "cell_type": "code",
      "execution_count": null,
      "metadata": {
        "colab": {
          "base_uri": "https://localhost:8080/"
        },
        "id": "2-KAWtXLdXGm",
        "outputId": "93d44aa0-8e0b-4d81-ca09-0e7b5ed9b5b9"
      },
      "outputs": [
        {
          "name": "stdout",
          "output_type": "stream",
          "text": [
            "What do you want? Joke\n",
            "Here is a joke for you! Panaversity GPT - Sophia is heading out to the grocery store. A programmer tells her: get a liter of milk, and if they have eggs, get 12. Sophia returns with 13 liters of milk. The programmer asks why and Sophia replies: 'because they had eggs'\n"
          ]
        }
      ],
      "source": [
        "# Constants\n",
        "PROMPT = \"What do you want? \"\n",
        "JOKE = (\"Here is a joke for you! Panaversity GPT - Sophia is heading out to the grocery store. \"\n",
        "        \"A programmer tells her: get a liter of milk, and if they have eggs, get 12. \"\n",
        "        \"Sophia returns with 13 liters of milk. The programmer asks why and Sophia replies: \"\n",
        "        \"'because they had eggs'\")\n",
        "SORRY = \"Sorry I only tell jokes\"\n",
        "\n",
        "def main():\n",
        "    user_input = input(PROMPT)\n",
        "\n",
        "    if user_input == \"Joke\":\n",
        "        print(JOKE)\n",
        "    else:\n",
        "        print(SORRY)\n",
        "\n",
        "if __name__ == \"__main__\":\n",
        "    main()\n"
      ]
    },
    {
      "cell_type": "code",
      "execution_count": 1,
      "metadata": {
        "colab": {
          "base_uri": "https://localhost:8080/"
        },
        "id": "J49qFBq6atx8",
        "outputId": "9eccf46f-dc50-4219-ef70-6e8eb8f727a8"
      },
      "outputs": [
        {
          "name": "stdout",
          "output_type": "stream",
          "text": [
            "Enter a number: 5\n",
            "10 20 40 80 160\n"
          ]
        }
      ],
      "source": [
        "def main():\n",
        "    # User se number lena\n",
        "    curr_value = int(input(\"Enter a number: \"))\n",
        "\n",
        "    # Pehla double karna\n",
        "    curr_value = curr_value * 2\n",
        "\n",
        "    # Jab tak value 100 se choti hai, loop chalayen\n",
        "    while curr_value < 100:\n",
        "        print(curr_value, end=' ')\n",
        "        curr_value = curr_value * 2  # value ko double karte jao\n",
        "\n",
        "    # Jab 100 ya usse zyada ho jaye, usko bhi print karo\n",
        "    print(curr_value)\n",
        "\n",
        "if __name__ == \"__main__\":\n",
        "    main()\n"
      ]
    },
    {
      "cell_type": "code",
      "execution_count": 2,
      "metadata": {
        "colab": {
          "base_uri": "https://localhost:8080/"
        },
        "id": "8jE3lrdkbKZT",
        "outputId": "5cde38c9-4933-4825-b3b5-c4ae117c1284"
      },
      "outputs": [
        {
          "name": "stdout",
          "output_type": "stream",
          "text": [
            "10 9 8 7 6 5 4 3 2 1 Liftoff!\n"
          ]
        }
      ],
      "source": [
        "def main():\n",
        "    # 10 se 1 tak countdown using range\n",
        "    for i in range(10, 0, -1):  # Start=10, Stop=0 (exclusive), Step=-1\n",
        "        print(i, end=' ')\n",
        "\n",
        "    # Liftoff at the end\n",
        "    print(\"Liftoff!\")\n",
        "\n",
        "if __name__ == \"__main__\":\n",
        "    main()\n"
      ]
    },
    {
      "cell_type": "code",
      "execution_count": 3,
      "metadata": {
        "colab": {
          "base_uri": "https://localhost:8080/"
        },
        "id": "ELlYz4AKbYoz",
        "outputId": "6679dc30-352c-4e45-c01c-52e48800d08b"
      },
      "outputs": [
        {
          "name": "stdout",
          "output_type": "stream",
          "text": [
            "I am thinking of a number between 0 and 99... Enter a guess: 64\n",
            "Your guess is too low\n",
            "Enter a new number: 55\n",
            "Your guess is too low\n",
            "Enter a new number: 64\n",
            "Your guess is too low\n",
            "Enter a new number: 75\n",
            "Your guess is too low\n",
            "Enter a new number: 80\n",
            "Your guess is too low\n",
            "Enter a new number: 85\n",
            "Your guess is too low\n",
            "Enter a new number: 90\n",
            "Your guess is too low\n",
            "Enter a new number: 99\n",
            "Your guess is too high\n",
            "Enter a new number: 95\n",
            "Congrats! The number was: 95\n"
          ]
        }
      ],
      "source": [
        "import random\n",
        "\n",
        "def main():\n",
        "    # Random number generate karein between 0 and 99\n",
        "    secret_number = random.randint(0, 99)\n",
        "\n",
        "    # Pehla guess lein\n",
        "    guess = int(input(\"I am thinking of a number between 0 and 99... Enter a guess: \"))\n",
        "\n",
        "    # Jab tak guess sahi nahi hota, loop chale\n",
        "    while guess != secret_number:\n",
        "        if guess > secret_number:\n",
        "            print(\"Your guess is too high\")\n",
        "        else:\n",
        "            print(\"Your guess is too low\")\n",
        "\n",
        "        # Naya guess lein\n",
        "        guess = int(input(\"Enter a new number: \"))\n",
        "\n",
        "    # Jab guess sahi ho jaye\n",
        "    print(\"Congrats! The number was:\", secret_number)\n",
        "\n",
        "if __name__ == \"__main__\":\n",
        "    main()\n"
      ]
    },
    {
      "cell_type": "code",
      "execution_count": 4,
      "metadata": {
        "colab": {
          "base_uri": "https://localhost:8080/"
        },
        "id": "TgXlI5uOcQg8",
        "outputId": "0baa3939-06ec-42ce-efcb-dd9e4a3058ce"
      },
      "outputs": [
        {
          "name": "stdout",
          "output_type": "stream",
          "text": [
            "82 15 53 85 4 57 58 23 41 75 \n"
          ]
        }
      ],
      "source": [
        "import random\n",
        "\n",
        "def main():\n",
        "    for _ in range(10):\n",
        "        number = random.randint(1, 100)\n",
        "        print(number, end=' ')\n",
        "    print()  # New line after printing all numbers\n",
        "\n",
        "if __name__ == \"__main__\":\n",
        "    main()\n"
      ]
    }
  ],
  "metadata": {
    "colab": {
      "authorship_tag": "ABX9TyPMRyUtr9rXqA2ykLCBdAaG",
      "include_colab_link": true,
      "provenance": []
    },
    "kernelspec": {
      "display_name": "Python 3",
      "name": "python3"
    },
    "language_info": {
      "name": "python"
    }
  },
  "nbformat": 4,
  "nbformat_minor": 0
}
