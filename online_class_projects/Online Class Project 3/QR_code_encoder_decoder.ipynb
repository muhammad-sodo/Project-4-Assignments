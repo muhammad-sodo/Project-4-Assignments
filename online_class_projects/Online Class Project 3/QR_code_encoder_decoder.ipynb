{
  "nbformat": 4,
  "nbformat_minor": 0,
  "metadata": {
    "colab": {
      "provenance": [],
      "authorship_tag": "ABX9TyOWKDBkmu2qtnoAk/AIsc4F",
      "include_colab_link": true
    },
    "kernelspec": {
      "name": "python3",
      "display_name": "Python 3"
    },
    "language_info": {
      "name": "python"
    }
  },
  "cells": [
    {
      "cell_type": "markdown",
      "metadata": {
        "id": "view-in-github",
        "colab_type": "text"
      },
      "source": [
        "<a href=\"https://colab.research.google.com/github/muhammad-sodo/qr_code/blob/main/QR_code_encoder_decoder.ipynb\" target=\"_parent\"><img src=\"https://colab.research.google.com/assets/colab-badge.svg\" alt=\"Open In Colab\"/></a>"
      ]
    },
    {
      "cell_type": "code",
      "source": [
        "import qrcode\n",
        "import cv2\n",
        "from PIL import Image\n",
        "\n",
        "# Function to generate QR code\n",
        "def generate_qr_code(data, filename=\"qrcode.png\"):\n",
        "    qr = qrcode.QRCode(\n",
        "        version=1,\n",
        "        error_correction=qrcode.constants.ERROR_CORRECT_L,\n",
        "        box_size=10,\n",
        "        border=4,\n",
        "    )\n",
        "    qr.add_data(data)\n",
        "    qr.make(fit=True)\n",
        "\n",
        "    img = qr.make_image(fill_color=\"black\", back_color=\"white\")\n",
        "    img.save(filename)\n",
        "    print(f\"[✅] QR Code saved as {filename}\")\n",
        "\n",
        "# Function to decode QR code using OpenCV\n",
        "def decode_qr_code(image_path):\n",
        "    img = cv2.imread(image_path)\n",
        "    detector = cv2.QRCodeDetector()\n",
        "    data, bbox, _ = detector.detectAndDecode(img)\n",
        "\n",
        "    if data:\n",
        "        print(f\"[🔍] Decoded Data: {data}\")\n",
        "    else:\n",
        "        print(\"[❌] No QR code found in the image.\")\n",
        "\n",
        "# Example usage\n",
        "if __name__ == \"__main__\":\n",
        "    print(\"=== QR Code Encoder / Decoder ===\")\n",
        "    user_data = input(\"Enter the data you want to encode: \")\n",
        "    generate_qr_code(user_data)\n",
        "\n",
        "    print(\"\\nNow decoding the same QR Code...\")\n",
        "    decode_qr_code(\"qrcode.png\")\n"
      ],
      "metadata": {
        "id": "lQav68R9VSev"
      },
      "execution_count": null,
      "outputs": []
    }
  ]
}