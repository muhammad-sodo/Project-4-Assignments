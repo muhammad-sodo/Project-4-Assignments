{
  "nbformat": 4,
  "nbformat_minor": 0,
  "metadata": {
    "colab": {
      "provenance": [],
      "authorship_tag": "ABX9TyO0VF13i3FOPmFyV6TIosKm",
      "include_colab_link": true
    },
    "kernelspec": {
      "name": "python3",
      "display_name": "Python 3"
    },
    "language_info": {
      "name": "python"
    }
  },
  "cells": [
    {
      "cell_type": "markdown",
      "metadata": {
        "id": "view-in-github",
        "colab_type": "text"
      },
      "source": [
        "<a href=\"https://colab.research.google.com/github/muhammad-sodo/tic-tac/blob/main/Tic_Tac_Toe_Python_Project.ipynb\" target=\"_parent\"><img src=\"https://colab.research.google.com/assets/colab-badge.svg\" alt=\"Open In Colab\"/></a>"
      ]
    },
    {
      "cell_type": "code",
      "execution_count": null,
      "metadata": {
        "id": "cxp2eLRPhMR1"
      },
      "outputs": [],
      "source": [
        "import time\n",
        "\n",
        "# Create board\n",
        "board = [\" \" for _ in range(9)]\n",
        "\n",
        "# Display the board\n",
        "def print_board():\n",
        "    print()\n",
        "    for i in range(3):\n",
        "        row = \"|\".join(board[i*3:(i+1)*3])\n",
        "        print(\" \" + row)\n",
        "        if i < 2:\n",
        "            print(\"---|---|---\")\n",
        "    print()\n",
        "\n",
        "# Check if a player has won\n",
        "def check_winner(player):\n",
        "    win_conditions = [\n",
        "        [0,1,2], [3,4,5], [6,7,8],  # rows\n",
        "        [0,3,6], [1,4,7], [2,5,8],  # columns\n",
        "        [0,4,8], [2,4,6]            # diagonals\n",
        "    ]\n",
        "    for cond in win_conditions:\n",
        "        if all(board[i] == player for i in cond):\n",
        "            return True\n",
        "    return False\n",
        "\n",
        "# Check if board is full\n",
        "def is_draw():\n",
        "    return \" \" not in board\n",
        "\n",
        "# Play the game\n",
        "def play_game():\n",
        "    print(\"=== Welcome to Tic-Tac-Toe ===\")\n",
        "    print(\"Player 1: X | Player 2: O\")\n",
        "    time.sleep(1)\n",
        "\n",
        "    current_player = \"X\"\n",
        "\n",
        "    while True:\n",
        "        print_board()\n",
        "        try:\n",
        "            move = int(input(f\"Player {current_player}, enter your move (1-9): \")) - 1\n",
        "            if board[move] != \" \" or move not in range(9):\n",
        "                print(\"❌ Invalid move. Try again.\")\n",
        "                continue\n",
        "        except (ValueError, IndexError):\n",
        "            print(\"❌ Invalid input. Enter a number between 1-9.\")\n",
        "            continue\n",
        "\n",
        "        board[move] = current_player\n",
        "\n",
        "        if check_winner(current_player):\n",
        "            print_board()\n",
        "            print(f\"🎉 Player {current_player} wins!\")\n",
        "            break\n",
        "        elif is_draw():\n",
        "            print_board()\n",
        "            print(\"🤝 It's a draw!\")\n",
        "            break\n",
        "\n",
        "        current_player = \"O\" if current_player == \"X\" else \"X\"\n",
        "\n",
        "if __name__ == \"__main__\":\n",
        "    play_game()\n"
      ]
    }
  ]
}