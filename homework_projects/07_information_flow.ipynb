{
  "nbformat": 4,
  "nbformat_minor": 0,
  "metadata": {
    "colab": {
      "provenance": [],
      "authorship_tag": "ABX9TyPuK9qx64dJyks3/okuq7mb",
      "include_colab_link": true
    },
    "kernelspec": {
      "name": "python3",
      "display_name": "Python 3"
    },
    "language_info": {
      "name": "python"
    }
  },
  "cells": [
    {
      "cell_type": "markdown",
      "metadata": {
        "id": "view-in-github",
        "colab_type": "text"
      },
      "source": [
        "<a href=\"https://colab.research.google.com/github/muhammad-sodo/Project-4-Assignments/blob/main/07_information_flow.ipynb\" target=\"_parent\"><img src=\"https://colab.research.google.com/assets/colab-badge.svg\" alt=\"Open In Colab\"/></a>"
      ]
    },
    {
      "cell_type": "code",
      "execution_count": 1,
      "metadata": {
        "colab": {
          "base_uri": "https://localhost:8080/"
        },
        "id": "pwvdhTryr90S",
        "outputId": "a13ed2ca-a6bf-49a1-a919-1b8940c3c003"
      },
      "outputs": [
        {
          "output_type": "stream",
          "name": "stdout",
          "text": [
            "How old is this person?: 33\n",
            "True\n"
          ]
        }
      ],
      "source": [
        "ADULT_AGE = 18  # Define the legal adult age constant\n",
        "\n",
        "def is_adult(age):\n",
        "    \"\"\"\n",
        "    Returns True if the person is an adult (age >= ADULT_AGE), False otherwise.\n",
        "    \"\"\"\n",
        "    if age >= ADULT_AGE:\n",
        "        return True\n",
        "    else:\n",
        "        return False\n",
        "\n",
        "def main():\n",
        "    # Ask the user for their age\n",
        "    age = int(input(\"How old is this person?: \"))  # Convert the input to an integer\n",
        "    print(is_adult(age))  # Call the function and print the result\n",
        "\n",
        "if __name__ == \"__main__\":\n",
        "    main()\n"
      ]
    },
    {
      "cell_type": "code",
      "source": [
        "def greet(name):\n",
        "    \"\"\"\n",
        "    Prints a greeting for the given name.\n",
        "    \"\"\"\n",
        "    print(f\"Greetings {name}!\")\n",
        "\n",
        "def main():\n",
        "    # Ask for the user's name\n",
        "    name = input(\"What's your name? \")\n",
        "    # Call the greet function with the user's name\n",
        "    greet(name)\n",
        "\n",
        "if __name__ == \"__main__\":\n",
        "    main()\n"
      ],
      "metadata": {
        "colab": {
          "base_uri": "https://localhost:8080/"
        },
        "id": "8gbPmu3zs9xd",
        "outputId": "43cfe871-2027-404e-8785-c7b6f49bdf91"
      },
      "execution_count": 2,
      "outputs": [
        {
          "output_type": "stream",
          "name": "stdout",
          "text": [
            "What's your name? Adam\n",
            "Greetings Adam!\n"
          ]
        }
      ]
    },
    {
      "cell_type": "code",
      "source": [
        "def in_range(n, low, high):\n",
        "    \"\"\"\n",
        "    Returns True if n is between low and high, inclusive.\n",
        "    high is guaranteed to be greater than low.\n",
        "    \"\"\"\n",
        "    return low <= n <= high\n",
        "\n",
        "# Example usage\n",
        "print(in_range(5, 1, 10))  # True, because 5 is between 1 and 10\n",
        "print(in_range(0, 1, 10))  # False, because 0 is less than 1\n",
        "print(in_range(11, 1, 10))  # False, because 11 is greater than 10\n"
      ],
      "metadata": {
        "colab": {
          "base_uri": "https://localhost:8080/"
        },
        "id": "s69VDU9dtZ2C",
        "outputId": "d24fe12d-892f-4445-9a76-faee4ad1d020"
      },
      "execution_count": 3,
      "outputs": [
        {
          "output_type": "stream",
          "name": "stdout",
          "text": [
            "True\n",
            "False\n",
            "False\n"
          ]
        }
      ]
    },
    {
      "cell_type": "code",
      "source": [
        "def num_in_stock(fruit):\n",
        "    # Inventory of fruits with their stock quantities\n",
        "    inventory = {\n",
        "        \"apple\": 500,\n",
        "        \"banana\": 300,\n",
        "        \"pear\": 1000,\n",
        "        \"orange\": 150,\n",
        "        \"grape\": 200,\n",
        "        \"mango\": 0,  # Example of fruit that is out of stock\n",
        "    }\n",
        "\n",
        "    # Return the stock for the requested fruit\n",
        "    return inventory.get(fruit.lower(), 0)  # Return 0 if the fruit is not found\n",
        "\n",
        "def main():\n",
        "    # Prompt the user to enter a fruit\n",
        "    fruit = input(\"Enter a fruit: \").strip().lower()  # Convert to lowercase for uniformity\n",
        "\n",
        "    # Get the number of fruits in stock\n",
        "    stock_count = num_in_stock(fruit)\n",
        "\n",
        "    # Check if the fruit is in stock and print the appropriate message\n",
        "    if stock_count > 0:\n",
        "        print(\"This fruit is in stock! Here is how many:\")\n",
        "        print(stock_count)\n",
        "    else:\n",
        "        print(\"This fruit is not in stock.\")\n",
        "\n",
        "# Running the program\n",
        "if __name__ == \"__main__\":\n",
        "    main()\n"
      ],
      "metadata": {
        "colab": {
          "base_uri": "https://localhost:8080/"
        },
        "id": "QB1w7IEftsMN",
        "outputId": "16969246-4f68-4e4d-99c4-55e502db0123"
      },
      "execution_count": 18,
      "outputs": [
        {
          "output_type": "stream",
          "name": "stdout",
          "text": [
            "Enter a fruit: mango\n",
            "This fruit is not in stock.\n"
          ]
        }
      ]
    },
    {
      "cell_type": "code",
      "source": [
        "def get_user_info():\n",
        "    # Ask the user for their first name\n",
        "    first_name = input(\"What is your first name?: \")\n",
        "\n",
        "    # Ask the user for their last name\n",
        "    last_name = input(\"What is your last name?: \")\n",
        "\n",
        "    # Ask the user for their email address\n",
        "    email = input(\"What is your email address?: \")\n",
        "\n",
        "    # Return all three pieces of data as a tuple\n",
        "    return first_name, last_name, email\n",
        "\n",
        "def main():\n",
        "    user_data = get_user_info()\n",
        "    print(\"Received the following user data:\", user_data)\n",
        "\n",
        "if __name__ == \"__main__\":\n",
        "    main()\n",
        "\n"
      ],
      "metadata": {
        "colab": {
          "base_uri": "https://localhost:8080/"
        },
        "id": "FFyxRH2lusKl",
        "outputId": "46fb39fd-821e-483e-81a8-d6bd56f3baae"
      },
      "execution_count": 20,
      "outputs": [
        {
          "output_type": "stream",
          "name": "stdout",
          "text": [
            "What is your first name?: muhammad adam\n",
            "What is your last name?: sodo\n",
            "What is your email address?: adamsodo@gmail.com\n",
            "Received the following user data: ('muhammad adam', 'sodo', 'adamsodo@gmail.com')\n"
          ]
        }
      ]
    },
    {
      "cell_type": "code",
      "source": [
        "# Helper function to subtract 7 from a number\n",
        "def subtract_seven(num):\n",
        "    return num - 7\n",
        "\n",
        "# Main function\n",
        "def main():\n",
        "    number = int(input(\"Enter a number: \"))\n",
        "    result = subtract_seven(number)\n",
        "    print(\"Result after subtracting 7:\", result)\n",
        "\n",
        "# This will run main only if the script is executed directly\n",
        "if __name__ == \"__main__\":\n",
        "    main()\n"
      ],
      "metadata": {
        "colab": {
          "base_uri": "https://localhost:8080/"
        },
        "id": "Ts52Ulf3wYDN",
        "outputId": "8b7805b7-69fa-42c3-8d50-4a4a0e6c3300"
      },
      "execution_count": 21,
      "outputs": [
        {
          "output_type": "stream",
          "name": "stdout",
          "text": [
            "Enter a number: 6\n",
            "Result after subtracting 7: -1\n"
          ]
        }
      ]
    }
  ]
}