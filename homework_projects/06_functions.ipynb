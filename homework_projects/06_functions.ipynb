{
  "nbformat": 4,
  "nbformat_minor": 0,
  "metadata": {
    "colab": {
      "provenance": [],
      "authorship_tag": "ABX9TyMZHkjkdDZHk7MgYLjGMB6V",
      "include_colab_link": true
    },
    "kernelspec": {
      "name": "python3",
      "display_name": "Python 3"
    },
    "language_info": {
      "name": "python"
    }
  },
  "cells": [
    {
      "cell_type": "markdown",
      "metadata": {
        "id": "view-in-github",
        "colab_type": "text"
      },
      "source": [
        "<a href=\"https://colab.research.google.com/github/muhammad-sodo/Project-4-Assignments/blob/main/06_functions.ipynb\" target=\"_parent\"><img src=\"https://colab.research.google.com/assets/colab-badge.svg\" alt=\"Open In Colab\"/></a>"
      ]
    },
    {
      "cell_type": "code",
      "execution_count": 1,
      "metadata": {
        "colab": {
          "base_uri": "https://localhost:8080/"
        },
        "id": "TllcAWDWkAxT",
        "outputId": "7ffc6e8a-ed02-4fd2-cc03-2ba88d4e8cf4"
      },
      "outputs": [
        {
          "output_type": "stream",
          "name": "stdout",
          "text": [
            "Midpoint between 0 and 10: 5.0\n",
            "Midpoint between 8 and 10: 9.0\n",
            "Midpoint of the two midpoints: 7.0\n"
          ]
        }
      ],
      "source": [
        "def find_midpoint(x: float, y: float) -> float:\n",
        "    \"\"\"\n",
        "    Calculates and returns the midpoint between two numbers x and y.\n",
        "    \"\"\"\n",
        "    return (x + y) / 2\n",
        "\n",
        "def main():\n",
        "    midpoint1 = find_midpoint(0, 10)\n",
        "    midpoint2 = find_midpoint(8, 10)\n",
        "\n",
        "    overall_mid = find_midpoint(midpoint1, midpoint2)\n",
        "\n",
        "    print(\"Midpoint between 0 and 10:\", midpoint1)\n",
        "    print(\"Midpoint between 8 and 10:\", midpoint2)\n",
        "    print(\"Midpoint of the two midpoints:\", overall_mid)\n",
        "\n",
        "# This ensures main() runs only if this file is the main script\n",
        "if __name__ == '__main__':\n",
        "    main()\n"
      ]
    },
    {
      "cell_type": "code",
      "source": [
        "import random\n",
        "\n",
        "DONE_LIKELIHOOD = 0.2  # You can tweak this probability\n",
        "\n",
        "def chaotic_counting():\n",
        "    \"\"\"\n",
        "    Counts from 1 to 10, but may stop early if done() returns True.\n",
        "    \"\"\"\n",
        "    for number in range(1, 11):\n",
        "        if done():\n",
        "            print(\"Stopping early at number:\", number)\n",
        "            return  # Exit the function if done() is True\n",
        "        print(number)\n",
        "\n",
        "def done():\n",
        "    \"\"\"\n",
        "    Returns True with a probability defined by DONE_LIKELIHOOD.\n",
        "    \"\"\"\n",
        "    return random.random() < DONE_LIKELIHOOD\n",
        "\n",
        "def main():\n",
        "    print(\"I'm going to count until 10 or until I feel like stopping, whichever comes first.\")\n",
        "    chaotic_counting()\n",
        "    print(\"I'm done.\")\n",
        "\n",
        "if __name__ == \"__main__\":\n",
        "    main()\n"
      ],
      "metadata": {
        "colab": {
          "base_uri": "https://localhost:8080/"
        },
        "id": "nEGpe-LPmSzq",
        "outputId": "6c638c92-61ac-4d15-b9a5-a3cea3dac4df"
      },
      "execution_count": 2,
      "outputs": [
        {
          "output_type": "stream",
          "name": "stdout",
          "text": [
            "I'm going to count until 10 or until I feel like stopping, whichever comes first.\n",
            "1\n",
            "Stopping early at number: 2\n",
            "I'm done.\n"
          ]
        }
      ]
    },
    {
      "cell_type": "code",
      "source": [
        "def count_even(lst):\n",
        "    # First, populate the list with integers entered by the user\n",
        "    while True:\n",
        "        user_input = input(\"Enter an integer or press enter to stop: \")\n",
        "\n",
        "        # If the user presses enter without typing anything, stop the loop\n",
        "        if user_input == \"\":\n",
        "            break\n",
        "\n",
        "        # Try to convert the input to an integer and add it to the list\n",
        "        try:\n",
        "            num = int(user_input)\n",
        "            lst.append(num)\n",
        "        except ValueError:\n",
        "            print(\"Please enter a valid integer.\")\n",
        "\n",
        "    # Count how many even numbers are in the list\n",
        "    even_count = 0\n",
        "    for num in lst:\n",
        "        if num % 2 == 0:\n",
        "            even_count += 1\n",
        "\n",
        "    # Print the count of even numbers\n",
        "    print(f\"Number of even numbers: {even_count}\")\n",
        "\n",
        "def main():\n",
        "    # Create an empty list to store the user inputs\n",
        "    user_numbers = []\n",
        "\n",
        "    # Call the count_even function to count even numbers\n",
        "    count_even(user_numbers)\n",
        "\n",
        "if __name__ == '__main__':\n",
        "    main()\n"
      ],
      "metadata": {
        "colab": {
          "base_uri": "https://localhost:8080/"
        },
        "id": "37miSw83nLMj",
        "outputId": "512fc098-f982-4135-d903-9668ee6e42bb"
      },
      "execution_count": 3,
      "outputs": [
        {
          "output_type": "stream",
          "name": "stdout",
          "text": [
            "Enter an integer or press enter to stop: 3\n",
            "Enter an integer or press enter to stop: 4\n",
            "Enter an integer or press enter to stop: 5\n",
            "Enter an integer or press enter to stop: 9\n",
            "Enter an integer or press enter to stop: 9\n",
            "Enter an integer or press enter to stop: 89\n",
            "Enter an integer or press enter to stop: 98\n",
            "Enter an integer or press enter to stop: 7\n",
            "Enter an integer or press enter to stop: 65\n",
            "Enter an integer or press enter to stop: \n",
            "Number of even numbers: 2\n"
          ]
        }
      ]
    },
    {
      "cell_type": "code",
      "source": [
        "def double(num):\n",
        "    \"\"\"\n",
        "    This function returns the result of multiplying num by 2.\n",
        "    \"\"\"\n",
        "    return num * 2\n",
        "\n",
        "def main():\n",
        "    # Ask the user for a number\n",
        "    user_input = float(input(\"Enter a number: \"))\n",
        "\n",
        "    # Call double function and store the result\n",
        "    result = double(user_input)\n",
        "\n",
        "    # Print the result\n",
        "    print(f\"Double that is {result}\")\n",
        "\n",
        "if __name__ == '__main__':\n",
        "    main()\n"
      ],
      "metadata": {
        "colab": {
          "base_uri": "https://localhost:8080/"
        },
        "id": "VB-Ifk7jnlCn",
        "outputId": "45715347-b5b8-4206-a6f8-4c405a6371b7"
      },
      "execution_count": 4,
      "outputs": [
        {
          "output_type": "stream",
          "name": "stdout",
          "text": [
            "Enter a number: 4\n",
            "Double that is 8.0\n"
          ]
        }
      ]
    },
    {
      "cell_type": "code",
      "source": [
        "def get_name():\n",
        "    \"\"\"\n",
        "    This function returns the name as a string.\n",
        "    \"\"\"\n",
        "    return \"Sophia\"  # Replace \"Sophia\" with your own name if needed.\n",
        "\n",
        "def main():\n",
        "    # Get the name by calling the get_name function\n",
        "    name = get_name()\n",
        "\n",
        "    # Print the greeting message\n",
        "    print(f\"Howdy {name} ! 🤠\")\n",
        "\n",
        "if __name__ == '__main__':\n",
        "    main()\n"
      ],
      "metadata": {
        "colab": {
          "base_uri": "https://localhost:8080/"
        },
        "id": "NtvLACGwn4Vv",
        "outputId": "4379454f-b31c-43a2-b65f-8a2217443424"
      },
      "execution_count": 5,
      "outputs": [
        {
          "output_type": "stream",
          "name": "stdout",
          "text": [
            "Howdy Sophia ! 🤠\n"
          ]
        }
      ]
    },
    {
      "cell_type": "code",
      "source": [
        "def print_even_odd():\n",
        "    for num in range(10, 20):\n",
        "        if num % 2 == 0:\n",
        "            print(f\"{num} even\", end=\" \")\n",
        "        else:\n",
        "            print(f\"{num} odd\", end=\" \")\n",
        "\n",
        "def main():\n",
        "    print_even_odd()\n",
        "\n",
        "if __name__ == \"__main__\":\n",
        "    main()\n"
      ],
      "metadata": {
        "colab": {
          "base_uri": "https://localhost:8080/"
        },
        "id": "v_eqj9IuoJfg",
        "outputId": "34e07087-0dd6-4f30-e2dc-d692cd4f5781"
      },
      "execution_count": 6,
      "outputs": [
        {
          "output_type": "stream",
          "name": "stdout",
          "text": [
            "10 even 11 odd 12 even 13 odd 14 even 15 odd 16 even 17 odd 18 even 19 odd "
          ]
        }
      ]
    },
    {
      "cell_type": "code",
      "source": [
        "def print_divisors(num):\n",
        "    \"\"\"\n",
        "    Prints all divisors of the given number `num`.\n",
        "    \"\"\"\n",
        "    print(f\"Here are the divisors of {num}\")\n",
        "    for i in range(1, num + 1):\n",
        "        if num % i == 0:\n",
        "            print(i, end=\" \")\n",
        "\n",
        "def main():\n",
        "    num = int(input(\"Enter a number: \"))\n",
        "    print_divisors(num)\n",
        "\n",
        "if __name__ == \"__main__\":\n",
        "    main()\n"
      ],
      "metadata": {
        "colab": {
          "base_uri": "https://localhost:8080/"
        },
        "id": "9J2WiX8wonVQ",
        "outputId": "448ce6d1-ffc3-480c-89d5-d5d86987a5cc"
      },
      "execution_count": 7,
      "outputs": [
        {
          "output_type": "stream",
          "name": "stdout",
          "text": [
            "Enter a number: 4\n",
            "Here are the divisors of 4\n",
            "1 2 4 "
          ]
        }
      ]
    },
    {
      "cell_type": "code",
      "source": [
        "def print_multiple(message, repeats):\n",
        "    \"\"\"\n",
        "    Prints the message a specified number of times on the same line.\n",
        "    \"\"\"\n",
        "    for _ in range(repeats):\n",
        "        print(message, end=\" \")\n",
        "\n",
        "def main():\n",
        "    message = input(\"Please type a message: \")\n",
        "    repeats = int(input(\"Enter a number of times to repeat your message: \"))\n",
        "    print_multiple(message, repeats)\n",
        "\n",
        "if __name__ == \"__main__\":\n",
        "    main()\n"
      ],
      "metadata": {
        "colab": {
          "base_uri": "https://localhost:8080/"
        },
        "id": "pI5a-Nkko9bh",
        "outputId": "1abd43f5-490a-461d-d63e-7b3580cad676"
      },
      "execution_count": 8,
      "outputs": [
        {
          "output_type": "stream",
          "name": "stdout",
          "text": [
            "Please type a message: hi how are you ?\n",
            "Enter a number of times to repeat your message: 6\n",
            "hi how are you ? hi how are you ? hi how are you ? hi how are you ? hi how are you ? hi how are you ? "
          ]
        }
      ]
    },
    {
      "cell_type": "code",
      "source": [
        "def make_sentence(word, part_of_speech):\n",
        "    \"\"\"\n",
        "    Given a word and a part of speech, print a sentence using the word in the correct context.\n",
        "    \"\"\"\n",
        "    if part_of_speech == 0:\n",
        "        print(f\"I am excited to add this {word} to my vast collection of them!\")\n",
        "    elif part_of_speech == 1:\n",
        "        print(f\"It's so nice outside today it makes me want to {word}!\")\n",
        "    elif part_of_speech == 2:\n",
        "        print(f\"Looking out my window, the sky is big and {word}!\")\n",
        "\n",
        "def main():\n",
        "    word = input(\"Please type a noun, verb, or adjective: \")\n",
        "    part_of_speech = int(input(\"Is this a noun, verb, or adjective? Type 0 for noun, 1 for verb, 2 for adjective: \"))\n",
        "    make_sentence(word, part_of_speech)\n",
        "\n",
        "if __name__ == \"__main__\":\n",
        "    main()\n"
      ],
      "metadata": {
        "colab": {
          "base_uri": "https://localhost:8080/"
        },
        "id": "_CeJXnWMqTdT",
        "outputId": "45ccfbc5-c158-4a15-8125-6b9410007f95"
      },
      "execution_count": 9,
      "outputs": [
        {
          "output_type": "stream",
          "name": "stdout",
          "text": [
            "Please type a noun, verb, or adjective: key\n",
            "Is this a noun, verb, or adjective? Type 0 for noun, 1 for verb, 2 for adjective: 0\n",
            "I am excited to add this key to my vast collection of them!\n"
          ]
        }
      ]
    },
    {
      "cell_type": "code",
      "source": [
        "def print_ones_digit(num):\n",
        "    \"\"\"\n",
        "    Prints the ones digit of the given number.\n",
        "    \"\"\"\n",
        "    ones_digit = num % 10  # Find the ones digit using modulo\n",
        "    print(f\"The ones digit is {ones_digit}\")\n",
        "\n",
        "def main():\n",
        "    num = int(input(\"Enter a number: \"))  # Prompt user for input and convert it to an integer\n",
        "    print_ones_digit(num)  # Call the function to print the ones digit\n",
        "\n",
        "if __name__ == \"__main__\":\n",
        "    main()\n"
      ],
      "metadata": {
        "colab": {
          "base_uri": "https://localhost:8080/"
        },
        "id": "myuGqnIsqzTf",
        "outputId": "0dc2f68c-59fa-4491-92a8-1dfd27bba3e3"
      },
      "execution_count": 10,
      "outputs": [
        {
          "output_type": "stream",
          "name": "stdout",
          "text": [
            "Enter a number: 9\n",
            "The ones digit is 9\n"
          ]
        }
      ]
    }
  ]
}