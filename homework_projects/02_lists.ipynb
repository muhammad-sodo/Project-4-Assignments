{
  "cells": [
    {
      "cell_type": "markdown",
      "metadata": {
        "colab_type": "text",
        "id": "view-in-github"
      },
      "source": [
        "<a href=\"https://colab.research.google.com/github/muhammad-sodo/Project-4-Assignments/blob/main/02_lists.ipynb\" target=\"_parent\"><img src=\"https://colab.research.google.com/assets/colab-badge.svg\" alt=\"Open In Colab\"/></a>"
      ]
    },
    {
      "cell_type": "code",
      "execution_count": 10,
      "metadata": {
        "colab": {
          "base_uri": "https://localhost:8080/"
        },
        "id": "znEH9-ltRzYL",
        "outputId": "38104959-41d5-4440-e121-552bf8d3c953"
      },
      "outputs": [
        {
          "name": "stdout",
          "output_type": "stream",
          "text": [
            "10\n",
            "10.0\n"
          ]
        }
      ],
      "source": [
        "from typing import List\n",
        "\n",
        "def sum_numbers(numbers: List[float]) -> float:\n",
        "    total: float = sum(numbers)\n",
        "    return total\n",
        "\n",
        "# Test the function\n",
        "print(sum_numbers([1, 2, 3, 4]))        # Output: 10.0\n",
        "print(sum_numbers([5.5, 3.2, 1.3]))     # Output: 10.0\n",
        "\n",
        "\n"
      ]
    },
    {
      "cell_type": "code",
      "execution_count": 11,
      "metadata": {
        "colab": {
          "base_uri": "https://localhost:8080/"
        },
        "id": "lXeHgN1PT8eW",
        "outputId": "9f44ff57-97c8-4f51-9ffd-9bf3727107ec"
      },
      "outputs": [
        {
          "name": "stdout",
          "output_type": "stream",
          "text": [
            "Original list: [1, 2, 3, 4]\n",
            "Doubled list: [2, 4, 6, 8]\n"
          ]
        }
      ],
      "source": [
        "def main() -> None:\n",
        "    numbers: list[int] = [1, 2, 3, 4]\n",
        "\n",
        "    # Double each element using list comprehension\n",
        "    doubled_numbers: list[int] = [num * 2 for num in numbers]\n",
        "\n",
        "    # Print the result\n",
        "    print(\"Original list:\", numbers)\n",
        "    print(\"Doubled list:\", doubled_numbers)\n",
        "\n",
        "# Call the main function\n",
        "if __name__ == '__main__':\n",
        "    main()\n"
      ]
    },
    {
      "cell_type": "code",
      "execution_count": null,
      "metadata": {},
      "outputs": [],
      "source": [
        "import tkinter as tk\n",
        "\n",
        "CELL_SIZE = 40\n",
        "GRID_ROWS = 10\n",
        "GRID_COLS = 10\n",
        "ERASER_SIZE = 50\n",
        "\n",
        "class EraserApp:\n",
        "    def __init__(self, root):\n",
        "        self.canvas = tk.Canvas(root, width=CELL_SIZE*GRID_COLS, height=CELL_SIZE*GRID_ROWS)\n",
        "        self.canvas.pack()\n",
        "\n",
        "        self.cells = []\n",
        "        self.create_grid()\n",
        "\n",
        "        # Create eraser\n",
        "        self.eraser = self.canvas.create_rectangle(0, 0, ERASER_SIZE, ERASER_SIZE, fill=\"gray\")\n",
        "\n",
        "        # Bind mouse movement\n",
        "        self.canvas.bind(\"<B1-Motion>\", self.move_eraser)\n",
        "\n",
        "    def create_grid(self):\n",
        "        for row in range(GRID_ROWS):\n",
        "            row_cells = []\n",
        "            for col in range(GRID_COLS):\n",
        "                x1 = col * CELL_SIZE\n",
        "                y1 = row * CELL_SIZE\n",
        "                x2 = x1 + CELL_SIZE\n",
        "                y2 = y1 + CELL_SIZE\n",
        "                rect = self.canvas.create_rectangle(x1, y1, x2, y2, fill=\"blue\", outline=\"white\")\n",
        "                row_cells.append(rect)\n",
        "            self.cells.append(row_cells)\n",
        "\n",
        "    def move_eraser(self, event):\n",
        "        x1 = event.x - ERASER_SIZE // 2\n",
        "        y1 = event.y - ERASER_SIZE // 2\n",
        "        x2 = x1 + ERASER_SIZE\n",
        "        y2 = y1 + ERASER_SIZE\n",
        "        self.canvas.coords(self.eraser, x1, y1, x2, y2)\n",
        "\n",
        "        # Erase overlapping cells\n",
        "        overlapping = self.canvas.find_overlapping(x1, y1, x2, y2)\n",
        "        for item in overlapping:\n",
        "            if item != self.eraser:\n",
        "                self.canvas.itemconfig(item, fill=\"white\")\n",
        "\n",
        "def main():\n",
        "    root = tk.Tk()\n",
        "    root.title(\"Eraser on Canvas\")\n",
        "    app = EraserApp(root)\n",
        "    root.mainloop()\n",
        "\n",
        "if __name__ == '__main__':\n",
        "    main()"
      ]
    },
    {
      "cell_type": "code",
      "execution_count": 13,
      "metadata": {
        "colab": {
          "base_uri": "https://localhost:8080/"
        },
        "id": "G7xXIPXtZ1Lk",
        "outputId": "51befa90-d63b-4362-ec7c-e06e9f2bca6f"
      },
      "outputs": [
        {
          "name": "stdout",
          "output_type": "stream",
          "text": [
            "Enter a message to copy: shsh\n",
            "List before: []\n",
            "List after: ['shsh', 'shsh', 'shsh']\n"
          ]
        }
      ],
      "source": [
        "def add_three_copies(my_list: list, data) -> None:\n",
        "    \"\"\"Adds three copies of data to the list (in-place)\"\"\"\n",
        "    my_list.append(data)\n",
        "    my_list.append(data)\n",
        "    my_list.append(data)\n",
        "\n",
        "def main():\n",
        "    message: str = input(\"Enter a message to copy: \")\n",
        "\n",
        "    data_list: list = []\n",
        "\n",
        "    print(\"List before:\", data_list)\n",
        "\n",
        "    add_three_copies(data_list, message)\n",
        "\n",
        "    print(\"List after:\", data_list)\n",
        "\n",
        "# No need to edit below\n",
        "if __name__ == '__main__':\n",
        "    main()\n"
      ]
    },
    {
      "cell_type": "code",
      "execution_count": 15,
      "metadata": {
        "colab": {
          "base_uri": "https://localhost:8080/"
        },
        "id": "BkNRGYMuaPcr",
        "outputId": "9a981c19-5181-46b2-c20d-ce4eb69db244"
      },
      "outputs": [
        {
          "name": "stdout",
          "output_type": "stream",
          "text": [
            "How many elements are in your list? 3\n",
            "Enter element #1: 5\n",
            "Enter element #2: 6\n",
            "Enter element #3: 7\n",
            "The first element is: 5\n"
          ]
        }
      ],
      "source": [
        "def get_first_element(lst: list) -> None:\n",
        "    \"\"\"Prints the first element of a non-empty list\"\"\"\n",
        "    print(\"The first element is:\", lst[0])\n",
        "\n",
        "def main():\n",
        "    num_elements: int = int(input(\"How many elements are in your list? \"))\n",
        "    user_list: list = []\n",
        "\n",
        "    for i in range(num_elements):\n",
        "        element = input(f\"Enter element #{i + 1}: \")\n",
        "        user_list.append(element)\n",
        "\n",
        "    get_first_element(user_list)\n",
        "\n",
        "# This provided line is required to call the main() function.\n",
        "if __name__ == '__main__':\n",
        "    main()\n"
      ]
    },
    {
      "cell_type": "code",
      "execution_count": 17,
      "metadata": {
        "colab": {
          "base_uri": "https://localhost:8080/"
        },
        "id": "WY6js9BzcgNc",
        "outputId": "781f2940-a071-4ce5-bbc1-0489cee3ecd7"
      },
      "outputs": [
        {
          "name": "stdout",
          "output_type": "stream",
          "text": [
            "Please enter an element of the list or press enter to stop: apple\n",
            "Please enter an element of the list or press enter to stop: banana\n",
            "Please enter an element of the list or press enter to stop: mango\n",
            "Please enter an element of the list or press enter to stop: orange\n",
            "Please enter an element of the list or press enter to stop: barry\n",
            "Please enter an element of the list or press enter to stop: potato\n",
            "Please enter an element of the list or press enter to stop: sugar\n",
            "Please enter an element of the list or press enter to stop: milk\n",
            "Please enter an element of the list or press enter to stop: water\n",
            "Please enter an element of the list or press enter to stop: \n",
            "water\n"
          ]
        }
      ],
      "source": [
        "def get_last_element(lst):\n",
        "    \"\"\" Prints the last element of the provided list. \"\"\"\n",
        "    print(lst[-1])  # This works for getting the last element\n",
        "\n",
        "def get_lst():\n",
        "    \"\"\" Prompts the user to enter one element of the list at a time and returns the resulting list. \"\"\"\n",
        "    lst = []\n",
        "    elem = input(\"Please enter an element of the list or press enter to stop: \")\n",
        "    while elem != \"\":\n",
        "        lst.append(elem)\n",
        "        elem = input(\"Please enter an element of the list or press enter to stop: \")\n",
        "    return lst\n",
        "\n",
        "def main():\n",
        "    lst = get_lst()  # Get the list from user input\n",
        "    get_last_element(lst)  # Print the last element of the list\n",
        "\n",
        "# This is the correct way to call the main function\n",
        "if __name__ == '__main__':\n",
        "    main()\n"
      ]
    },
    {
      "cell_type": "code",
      "execution_count": 18,
      "metadata": {
        "colab": {
          "base_uri": "https://localhost:8080/"
        },
        "id": "4NZJjrWPddNQ",
        "outputId": "413f6bff-3821-4e0c-bde8-d7b1ded713ab"
      },
      "outputs": [
        {
          "name": "stdout",
          "output_type": "stream",
          "text": [
            "Enter a value: 5\n",
            "Enter a value: 7\n",
            "Enter a value: 9\n",
            "Enter a value: 8\n",
            "Enter a value: 9\n",
            "Enter a value: 9\n",
            "Enter a value: 6\n",
            "Enter a value: 5\n",
            "Enter a value: 3\n",
            "Enter a value: 4\n",
            "Enter a value: 2\n",
            "Enter a value: 1\n",
            "Enter a value: 3\n",
            "Enter a value: 54\n",
            "Enter a value: 6\n",
            "Enter a value: 6\n",
            "Enter a value: \n",
            "Here's the list: ['5', '7', '9', '8', '9', '9', '6', '5', '3', '4', '2', '1', '3', '54', '6', '6']\n"
          ]
        }
      ],
      "source": [
        "def main():\n",
        "    values_list = []  # Initialize an empty list to store the user inputs\n",
        "\n",
        "    while True:\n",
        "        user_input = input(\"Enter a value: \")\n",
        "\n",
        "        # If user presses Enter without typing anything, break the loop\n",
        "        if user_input == \"\":\n",
        "            break\n",
        "\n",
        "        # Add the input to the list\n",
        "        values_list.append(user_input)\n",
        "\n",
        "    # Print the final list\n",
        "    print(\"Here's the list:\", values_list)\n",
        "\n",
        "# Calling the main function to run the program\n",
        "if __name__ == '__main__':\n",
        "    main()\n",
        "576878"
      ]
    },
    {
      "cell_type": "code",
      "execution_count": 19,
      "metadata": {
        "colab": {
          "base_uri": "https://localhost:8080/"
        },
        "id": "JWL9n-RaefKI",
        "outputId": "93da7615-da10-4aac-fc6a-8848709896f2"
      },
      "outputs": [
        {
          "name": "stdout",
          "output_type": "stream",
          "text": [
            "Enter a list of values separated by spaces: 4\n",
            "Original list: ['4']\n",
            "Final list: ['4']\n"
          ]
        }
      ],
      "source": [
        "MAX_LENGTH = 3  # Set the maximum length for the list\n",
        "\n",
        "def shorten(lst):\n",
        "    \"\"\"Removes elements from the end of the list until it is MAX_LENGTH items long.\"\"\"\n",
        "    while len(lst) > MAX_LENGTH:\n",
        "        removed_item = lst.pop()  # Remove the last item from the list\n",
        "        print(f\"Removed: {removed_item}\")  # Print the removed item\n",
        "\n",
        "def main():\n",
        "    lst = input(\"Enter a list of values separated by spaces: \").split()\n",
        "    print(f\"Original list: {lst}\")\n",
        "\n",
        "    shorten(lst)  # Call the shorten function\n",
        "\n",
        "    print(f\"Final list: {lst}\")\n",
        "\n",
        "if __name__ == '__main__':\n",
        "    main()"
      ]
    }
  ],
  "metadata": {
    "colab": {
      "authorship_tag": "ABX9TyNQ99BbQitiAX/MW/Zd+9cS",
      "include_colab_link": true,
      "provenance": []
    },
    "kernelspec": {
      "display_name": "Python 3",
      "name": "python3"
    },
    "language_info": {
      "name": "python"
    }
  },
  "nbformat": 4,
  "nbformat_minor": 0
}
