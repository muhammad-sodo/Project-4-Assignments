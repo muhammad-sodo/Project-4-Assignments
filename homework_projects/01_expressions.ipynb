{
  "nbformat": 4,
  "nbformat_minor": 0,
  "metadata": {
    "colab": {
      "provenance": [],
      "authorship_tag": "ABX9TyOUtUBjIGi8xPvWhXg9LIBd",
      "include_colab_link": true
    },
    "kernelspec": {
      "name": "python3",
      "display_name": "Python 3"
    },
    "language_info": {
      "name": "python"
    }
  },
  "cells": [
    {
      "cell_type": "markdown",
      "metadata": {
        "id": "view-in-github",
        "colab_type": "text"
      },
      "source": [
        "<a href=\"https://colab.research.google.com/github/muhammad-sodo/Project-4-Assignments/blob/main/01_expressions.ipynb\" target=\"_parent\"><img src=\"https://colab.research.google.com/assets/colab-badge.svg\" alt=\"Open In Colab\"/></a>"
      ]
    },
    {
      "cell_type": "code",
      "source": [
        "import random\n",
        "\n",
        "def roll_dice() -> None:\n",
        "    die1: int = random.randint(1, 6)\n",
        "    die2: int = random.randint(1, 6)\n",
        "    print(f\"Rolled: {die1} and {die2}\")\n",
        "\n",
        "def main() -> None:\n",
        "    # Roll the dice three times\n",
        "    roll_dice()  # First roll\n",
        "    roll_dice()  # Second roll\n",
        "    roll_dice()  # Third roll\n",
        "\n",
        "# This provided line is required at the end of\n",
        "# Python file to call the main() function.\n",
        "if __name__ == '__main__':\n",
        "    main()\n"
      ],
      "metadata": {
        "colab": {
          "base_uri": "https://localhost:8080/"
        },
        "id": "mnLPf90ecAgb",
        "outputId": "10412191-c79d-4ffa-9a09-6aedfb8508ec"
      },
      "execution_count": 2,
      "outputs": [
        {
          "output_type": "stream",
          "name": "stdout",
          "text": [
            "Rolled: 1 and 3\n",
            "Rolled: 5 and 5\n",
            "Rolled: 3 and 3\n"
          ]
        }
      ]
    },
    {
      "cell_type": "code",
      "source": [
        "def main() -> None:\n",
        "    # Constant speed of light\n",
        "    C: int = 299_792_458  # in meters per second\n",
        "\n",
        "    # User input\n",
        "    mass: float = float(input(\"Enter kilos of mass: \"))\n",
        "\n",
        "    # Calculate energy\n",
        "    energy: float = mass * C ** 2\n",
        "\n",
        "    # Output\n",
        "    print(\"\\ne = m * C^2...\\n\")\n",
        "    print(f\"m = {mass} kg\")\n",
        "    print(f\"C = {C} m/s\\n\")\n",
        "    print(f\"{energy} joules of energy!\")\n",
        "\n",
        "# This provided line is required at the end of\n",
        "# Python file to call the main() function.\n",
        "if __name__ == '__main__':\n",
        "    main()\n"
      ],
      "metadata": {
        "colab": {
          "base_uri": "https://localhost:8080/"
        },
        "id": "fb3XFAedcWd2",
        "outputId": "814c059d-c59b-46b6-9443-6a481a2c8e85"
      },
      "execution_count": 3,
      "outputs": [
        {
          "output_type": "stream",
          "name": "stdout",
          "text": [
            "Enter kilos of mass: 5\n",
            "\n",
            "e = m * C^2...\n",
            "\n",
            "m = 5.0 kg\n",
            "C = 299792458 m/s\n",
            "\n",
            "4.493775893684088e+17 joules of energy!\n"
          ]
        }
      ]
    },
    {
      "cell_type": "code",
      "source": [
        "def main() -> None:\n",
        "    # User input\n",
        "    feet: float = float(input(\"Enter length in feet: \"))\n",
        "\n",
        "    # Conversion\n",
        "    inches: float = feet * 12\n",
        "\n",
        "    # Output\n",
        "    print(f\"{feet} feet is equal to {inches} inches.\")\n",
        "\n",
        "# This provided line is required at the end of\n",
        "# Python file to call the main() function.\n",
        "if __name__ == '__main__':\n",
        "    main()\n"
      ],
      "metadata": {
        "colab": {
          "base_uri": "https://localhost:8080/"
        },
        "id": "Ou8mzg0jctBj",
        "outputId": "ddda46b1-473e-4e47-ca3d-7e139bc0136f"
      },
      "execution_count": 4,
      "outputs": [
        {
          "output_type": "stream",
          "name": "stdout",
          "text": [
            "Enter length in feet: 8\n",
            "8.0 feet is equal to 96.0 inches.\n"
          ]
        }
      ]
    },
    {
      "cell_type": "code",
      "source": [
        "import math\n",
        "\n",
        "def main() -> None:\n",
        "    # User inputs for the two sides\n",
        "    ab: float = float(input(\"Enter the length of AB: \"))\n",
        "    ac: float = float(input(\"Enter the length of AC: \"))\n",
        "\n",
        "    # Pythagorean theorem to calculate hypotenuse\n",
        "    bc: float = math.sqrt(ab**2 + ac**2)\n",
        "\n",
        "    # Output the result\n",
        "    print(f\"The length of BC (the hypotenuse) is: {bc}\")\n",
        "\n",
        "# Required line to call the main function\n",
        "if __name__ == '__main__':\n",
        "    main()\n"
      ],
      "metadata": {
        "colab": {
          "base_uri": "https://localhost:8080/"
        },
        "id": "rUDuSq8tdHPR",
        "outputId": "5ba71165-7c4d-4d27-e730-493b92709bdb"
      },
      "execution_count": 5,
      "outputs": [
        {
          "output_type": "stream",
          "name": "stdout",
          "text": [
            "Enter the length of AB: 67\n",
            "Enter the length of AC: 64\n",
            "The length of BC (the hypotenuse) is: 92.65527507918802\n"
          ]
        }
      ]
    },
    {
      "cell_type": "code",
      "source": [
        "def main() -> None:\n",
        "    # Input from user\n",
        "    dividend: int = int(input(\"Please enter an integer to be divided: \"))\n",
        "    divisor: int = int(input(\"Please enter an integer to divide by: \"))\n",
        "\n",
        "    # Calculate quotient and remainder\n",
        "    quotient: int = dividend // divisor\n",
        "    remainder: int = dividend % divisor\n",
        "\n",
        "    # Output result\n",
        "    print(f\"The result of this division is {quotient} with a remainder of {remainder}\")\n",
        "\n",
        "# Required line to call the main function\n",
        "if __name__ == '__main__':\n",
        "    main()\n"
      ],
      "metadata": {
        "colab": {
          "base_uri": "https://localhost:8080/"
        },
        "id": "DNO5V-fjdhCb",
        "outputId": "a433c2aa-59e3-4ad9-b6d4-19ead72390a0"
      },
      "execution_count": 6,
      "outputs": [
        {
          "output_type": "stream",
          "name": "stdout",
          "text": [
            "Please enter an integer to be divided: 45\n",
            "Please enter an integer to divide by: 67\n",
            "The result of this division is 0 with a remainder of 45\n"
          ]
        }
      ]
    },
    {
      "cell_type": "code",
      "source": [
        "import random\n",
        "\n",
        "def main() -> None:\n",
        "    # Simulate rolling two dice\n",
        "    die1: int = random.randint(1, 6)\n",
        "    die2: int = random.randint(1, 6)\n",
        "    total: int = die1 + die2\n",
        "\n",
        "    # Output the results\n",
        "    print(f\"First die: {die1}\")\n",
        "    print(f\"Second die: {die2}\")\n",
        "    print(f\"Total: {total}\")\n",
        "\n",
        "# Required line to call the main function\n",
        "if __name__ == '__main__':\n",
        "    main()\n"
      ],
      "metadata": {
        "colab": {
          "base_uri": "https://localhost:8080/"
        },
        "id": "0ywsoeG6eC9c",
        "outputId": "bb4c0b68-ab96-4632-cb6c-45f352ae936c"
      },
      "execution_count": 7,
      "outputs": [
        {
          "output_type": "stream",
          "name": "stdout",
          "text": [
            "First die: 3\n",
            "Second die: 1\n",
            "Total: 4\n"
          ]
        }
      ]
    },
    {
      "cell_type": "code",
      "source": [
        "def main() -> None:\n",
        "    # Constants\n",
        "    DAYS_IN_YEAR: int = 365\n",
        "    HOURS_IN_DAY: int = 24\n",
        "    MINUTES_IN_HOUR: int = 60\n",
        "    SECONDS_IN_MINUTE: int = 60\n",
        "\n",
        "    # Calculate seconds in a year\n",
        "    seconds_in_year: int = DAYS_IN_YEAR * HOURS_IN_DAY * MINUTES_IN_HOUR * SECONDS_IN_MINUTE\n",
        "\n",
        "    # Output the result\n",
        "    print(f\"There are {seconds_in_year} seconds in a year!\")\n",
        "\n",
        "# Required line to call the main function\n",
        "if __name__ == '__main__':\n",
        "    main()\n"
      ],
      "metadata": {
        "colab": {
          "base_uri": "https://localhost:8080/"
        },
        "id": "PlNnSm3begn2",
        "outputId": "ec48dd99-f84c-4712-905f-a2b94e073e05"
      },
      "execution_count": 8,
      "outputs": [
        {
          "output_type": "stream",
          "name": "stdout",
          "text": [
            "There are 31536000 seconds in a year!\n"
          ]
        }
      ]
    },
    {
      "cell_type": "code",
      "source": [
        "def main() -> None:\n",
        "    SENTENCE_START: str = \"Code in Place is fun. I learned to program and used Python to make my\"\n",
        "\n",
        "    # Get user inputs\n",
        "    adjective: str = input(\"Please type an adjective and press enter: \")\n",
        "    noun: str = input(\"Please type a noun and press enter: \")\n",
        "    verb: str = input(\"Please type a verb and press enter: \")\n",
        "\n",
        "    # Construct and print the final sentence\n",
        "    print(f\"{SENTENCE_START} {adjective} {noun} {verb}!\")\n",
        "\n",
        "# Required line to call the main function\n",
        "if __name__ == '__main__':\n",
        "    main()\n"
      ],
      "metadata": {
        "colab": {
          "base_uri": "https://localhost:8080/"
        },
        "id": "vSvqN-qmfSSp",
        "outputId": "023ac980-5ec0-46d1-b2c2-1423abe398d5"
      },
      "execution_count": 9,
      "outputs": [
        {
          "output_type": "stream",
          "name": "stdout",
          "text": [
            "Please type an adjective and press enter: 45\n",
            "Please type a noun and press enter: 7\n",
            "Please type a verb and press enter: 8\n",
            "Code in Place is fun. I learned to program and used Python to make my 45 7 8!\n"
          ]
        }
      ]
    }
  ]
}