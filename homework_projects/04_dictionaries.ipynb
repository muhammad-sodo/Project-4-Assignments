{
  "nbformat": 4,
  "nbformat_minor": 0,
  "metadata": {
    "colab": {
      "provenance": [],
      "authorship_tag": "ABX9TyNvvBLKxLASRFGZAuWh778k",
      "include_colab_link": true
    },
    "kernelspec": {
      "name": "python3",
      "display_name": "Python 3"
    },
    "language_info": {
      "name": "python"
    }
  },
  "cells": [
    {
      "cell_type": "markdown",
      "metadata": {
        "id": "view-in-github",
        "colab_type": "text"
      },
      "source": [
        "<a href=\"https://colab.research.google.com/github/muhammad-sodo/Project-4-Assignments/blob/main/04_dictionaries.ipynb\" target=\"_parent\"><img src=\"https://colab.research.google.com/assets/colab-badge.svg\" alt=\"Open In Colab\"/></a>"
      ]
    },
    {
      "cell_type": "code",
      "execution_count": 2,
      "metadata": {
        "colab": {
          "base_uri": "https://localhost:8080/"
        },
        "id": "hD_QUiv8VTbN",
        "outputId": "e5d4086d-d531-4b77-b497-e37c17647d05"
      },
      "outputs": [
        {
          "output_type": "stream",
          "name": "stdout",
          "text": [
            "Enter a number: 2\n",
            "Enter a number: 2\n",
            "Enter a number: 2\n",
            "Enter a number: 2\n",
            "Enter a number: 4\n",
            "Enter a number: 4\n",
            "Enter a number: 5\n",
            "Enter a number: 5\n",
            "Enter a number: \n",
            "2 appears 4 times.\n",
            "4 appears 2 times.\n",
            "5 appears 2 times.\n"
          ]
        }
      ],
      "source": [
        "def main():\n",
        "    number_counts: dict[int, int] = {}\n",
        "\n",
        "    while True:\n",
        "        entry = input(\"Enter a number: \")\n",
        "        if entry == \"\":\n",
        "            break\n",
        "        num = int(entry)\n",
        "\n",
        "        # Count the number\n",
        "        if num in number_counts:\n",
        "            number_counts[num] += 1\n",
        "        else:\n",
        "            number_counts[num] = 1\n",
        "\n",
        "    # Print the results\n",
        "    for number, count in number_counts.items():\n",
        "        print(f\"{number} appears {count} times.\")\n",
        "\n",
        "if __name__ == '__main__':\n",
        "    main()"
      ]
    },
    {
      "cell_type": "code",
      "source": [
        "def main():\n",
        "    phonebook: dict[str, str] = {}\n",
        "\n",
        "    print(\"Welcome to the Phonebook!\")\n",
        "\n",
        "    # Add entries\n",
        "    while True:\n",
        "        name = input(\"Enter a name (or press enter to stop adding): \")\n",
        "        if name == \"\":\n",
        "            break\n",
        "        number = input(f\"Enter the phone number for {name}: \")\n",
        "        phonebook[name] = number\n",
        "\n",
        "    # Look up numbers\n",
        "    print(\"\\nNow you can look up phone numbers!\")\n",
        "    while True:\n",
        "        search_name = input(\"Enter a name to look up (or press enter to quit): \")\n",
        "        if search_name == \"\":\n",
        "            break\n",
        "        if search_name in phonebook:\n",
        "            print(f\"The number for {search_name} is {phonebook[search_name]}\")\n",
        "        else:\n",
        "            print(f\"{search_name} is not in the phonebook.\")\n",
        "\n",
        "if __name__ == '__main__':\n",
        "    main()\n"
      ],
      "metadata": {
        "colab": {
          "base_uri": "https://localhost:8080/"
        },
        "id": "Plx7JSBWWgF8",
        "outputId": "ec04d99e-745d-45b9-bbe0-a0b52cbf03d4"
      },
      "execution_count": 4,
      "outputs": [
        {
          "name": "stdout",
          "output_type": "stream",
          "text": [
            "Welcome to the Phonebook!\n",
            "Enter a name (or press enter to stop adding): waqar\n",
            "Enter the phone number for waqar: 03242430904\n",
            "Enter a name (or press enter to stop adding): shakir\n",
            "Enter the phone number for shakir: 03429078387\n",
            "Enter a name (or press enter to stop adding): \n",
            "\n",
            "Now you can look up phone numbers!\n",
            "Enter a name to look up (or press enter to quit): shakir\n",
            "The number for shakir is 03429078387\n",
            "Enter a name to look up (or press enter to quit): waqar\n",
            "The number for waqar is 03242430904\n",
            "Enter a name to look up (or press enter to quit): arman\n",
            "arman is not in the phonebook.\n",
            "Enter a name to look up (or press enter to quit): \n"
          ]
        }
      ]
    },
    {
      "cell_type": "code",
      "source": [
        "def main():\n",
        "    fruit_prices: dict[str, float] = {\n",
        "        \"apple\": 5.0,\n",
        "        \"durian\": 15.0,\n",
        "        \"jackfruit\": 12.5,\n",
        "        \"kiwi\": 8.0,\n",
        "        \"rambutan\": 9.0,\n",
        "        \"mango\": 10.0\n",
        "    }\n",
        "\n",
        "    total_cost = 0.0\n",
        "\n",
        "    for fruit, price in fruit_prices.items():\n",
        "        quantity_str = input(f\"How many ({fruit}) do you want?: \")\n",
        "        if quantity_str.isdigit():\n",
        "            quantity = int(quantity_str)\n",
        "            total_cost += price * quantity\n",
        "        else:\n",
        "            print(f\"Invalid input for {fruit}. Assuming 0.\")\n",
        "\n",
        "    print(f\"\\nYour total is ${total_cost:.2f}\")\n",
        "\n",
        "if __name__ == '__main__':\n",
        "    main()\n"
      ],
      "metadata": {
        "colab": {
          "base_uri": "https://localhost:8080/"
        },
        "id": "IzN8AL8uXp3o",
        "outputId": "bb860ede-5c33-4752-a875-710e973dc316"
      },
      "execution_count": 5,
      "outputs": [
        {
          "output_type": "stream",
          "name": "stdout",
          "text": [
            "How many (apple) do you want?: 5\n",
            "How many (durian) do you want?: 7\n",
            "How many (jackfruit) do you want?: 9\n",
            "How many (kiwi) do you want?: 2\n",
            "How many (rambutan) do you want?: 8\n",
            "How many (mango) do you want?: 5\n",
            "\n",
            "Your total is $380.50\n"
          ]
        }
      ]
    },
    {
      "cell_type": "code",
      "source": [
        "from hashlib import sha256\n",
        "\n",
        "def hash_password(password):\n",
        "    \"\"\"\n",
        "    Hashes a password using SHA256 and returns the hex digest.\n",
        "    \"\"\"\n",
        "    return sha256(password.encode('utf-8')).hexdigest()\n",
        "\n",
        "def login(email, password, stored_logins):\n",
        "    \"\"\"\n",
        "    Verifies login by comparing the hash of the provided password\n",
        "    with the stored hashed password for the given email.\n",
        "    Returns True if it matches, otherwise False.\n",
        "    \"\"\"\n",
        "    hashed_input = hash_password(password)\n",
        "    stored_hash = stored_logins.get(email)\n",
        "\n",
        "    if stored_hash is None:\n",
        "        print(f\"No account found for {email}.\")\n",
        "        return False\n",
        "\n",
        "    if hashed_input == stored_hash:\n",
        "        return True\n",
        "    else:\n",
        "        return False\n",
        "\n",
        "def main():\n",
        "    stored_logins = {\n",
        "        \"example@gmail.com\": hash_password(\"password\"),\n",
        "        \"code_in_placer@cip.org\": hash_password(\"karel\"),\n",
        "        \"student@stanford.edu\": hash_password(\"123!456?789\")\n",
        "    }\n",
        "\n",
        "    test_cases = [\n",
        "        (\"example@gmail.com\", \"word\"),\n",
        "        (\"example@gmail.com\", \"password\"),\n",
        "        (\"code_in_placer@cip.org\", \"Karel\"),\n",
        "        (\"code_in_placer@cip.org\", \"karel\"),\n",
        "        (\"student@stanford.edu\", \"password\"),\n",
        "        (\"student@stanford.edu\", \"123!456?789\")\n",
        "    ]\n",
        "\n",
        "    for email, pwd in test_cases:\n",
        "        result = login(email, pwd, stored_logins)\n",
        "        print(f\"Login for {email} with password '{pwd}': {'✅ Success' if result else '❌ Failed'}\")\n",
        "\n",
        "if __name__ == '__main__':\n",
        "    main()\n"
      ],
      "metadata": {
        "colab": {
          "base_uri": "https://localhost:8080/"
        },
        "id": "h7m9V9awZIY7",
        "outputId": "8e0eaabb-6403-4f75-9e31-99adc0e37a2e"
      },
      "execution_count": 6,
      "outputs": [
        {
          "output_type": "stream",
          "name": "stdout",
          "text": [
            "Login for example@gmail.com with password 'word': ❌ Failed\n",
            "Login for example@gmail.com with password 'password': ✅ Success\n",
            "Login for code_in_placer@cip.org with password 'Karel': ❌ Failed\n",
            "Login for code_in_placer@cip.org with password 'karel': ✅ Success\n",
            "Login for student@stanford.edu with password 'password': ❌ Failed\n",
            "Login for student@stanford.edu with password '123!456?789': ✅ Success\n"
          ]
        }
      ]
    }
  ]
}