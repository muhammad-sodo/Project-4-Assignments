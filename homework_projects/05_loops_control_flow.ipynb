{
  "nbformat": 4,
  "nbformat_minor": 0,
  "metadata": {
    "colab": {
      "provenance": [],
      "authorship_tag": "ABX9TyM9WWKaeD1UnmdIYHSXwMWA",
      "include_colab_link": true
    },
    "kernelspec": {
      "name": "python3",
      "display_name": "Python 3"
    },
    "language_info": {
      "name": "python"
    }
  },
  "cells": [
    {
      "cell_type": "markdown",
      "metadata": {
        "id": "view-in-github",
        "colab_type": "text"
      },
      "source": [
        "<a href=\"https://colab.research.google.com/github/muhammad-sodo/Project-4-Assignments/blob/main/05_loops_control_flow.ipynb\" target=\"_parent\"><img src=\"https://colab.research.google.com/assets/colab-badge.svg\" alt=\"Open In Colab\"/></a>"
      ]
    },
    {
      "cell_type": "code",
      "execution_count": 2,
      "metadata": {
        "colab": {
          "base_uri": "https://localhost:8080/"
        },
        "id": "vy-Pw76Vbj73",
        "outputId": "cc514750-6976-480c-8370-9cd482f07974"
      },
      "outputs": [
        {
          "output_type": "stream",
          "name": "stdout",
          "text": [
            "I am thinking of a number between 0 and 99...\n",
            "Enter a guess: 80\n",
            "Your guess is too high\n",
            "\n",
            "Enter a guess: 55\n",
            "Your guess is too low\n",
            "\n",
            "Enter a guess: 66\n",
            "Your guess is too low\n",
            "\n",
            "Enter a guess: 75\n",
            "🎉 Congrats! The number was: 75\n"
          ]
        }
      ],
      "source": [
        "import random\n",
        "\n",
        "def main():\n",
        "    secret_number = random.randint(0, 99)\n",
        "    print(\"I am thinking of a number between 0 and 99...\")\n",
        "\n",
        "    while True:\n",
        "        guess = input(\"Enter a guess: \")\n",
        "\n",
        "        if not guess.isdigit():\n",
        "            print(\"Please enter a valid number!\")\n",
        "            continue\n",
        "\n",
        "        guess = int(guess)\n",
        "\n",
        "        if guess < secret_number:\n",
        "            print(\"Your guess is too low\\n\")\n",
        "        elif guess > secret_number:\n",
        "            print(\"Your guess is too high\\n\")\n",
        "        else:\n",
        "            print(f\"🎉 Congrats! The number was: {secret_number}\")\n",
        "            break\n",
        "\n",
        "if __name__ == '__main__':\n",
        "    main()\n"
      ]
    },
    {
      "cell_type": "code",
      "source": [
        "MAX_VALUE: int = 10000\n",
        "\n",
        "def main():\n",
        "    a = 0  # Fib(0)\n",
        "    b = 1  # Fib(1)\n",
        "\n",
        "    while a < MAX_VALUE:\n",
        "        print(a, end=' ')\n",
        "        a, b = b, a + b  # Move forward in the sequence\n",
        "\n",
        "if __name__ == '__main__':\n",
        "    main()\n"
      ],
      "metadata": {
        "colab": {
          "base_uri": "https://localhost:8080/"
        },
        "id": "1K2HHCaNcZO8",
        "outputId": "45a06b41-760e-4ecf-aa8d-073ac5159a76"
      },
      "execution_count": 1,
      "outputs": [
        {
          "output_type": "stream",
          "name": "stdout",
          "text": [
            "0 1 1 2 3 5 8 13 21 34 55 89 144 233 377 610 987 1597 2584 4181 6765 "
          ]
        }
      ]
    },
    {
      "cell_type": "code",
      "source": [
        "NUM_EVEN: int = 20\n",
        "\n",
        "def main():\n",
        "    for i in range(NUM_EVEN):\n",
        "        print(i * 2, end=' ')\n",
        "\n",
        "if __name__ == '__main__':\n",
        "    main()\n"
      ],
      "metadata": {
        "colab": {
          "base_uri": "https://localhost:8080/"
        },
        "id": "0bBb_LAjeGvP",
        "outputId": "5344ba35-945c-4082-dc11-570a2d1df995"
      },
      "execution_count": 3,
      "outputs": [
        {
          "output_type": "stream",
          "name": "stdout",
          "text": [
            "0 2 4 6 8 10 12 14 16 18 20 22 24 26 28 30 32 34 36 38 "
          ]
        }
      ]
    },
    {
      "cell_type": "code",
      "source": [
        "AFFIRMATION: str = \"I am capable of doing anything I put my mind to.\"\n",
        "\n",
        "def main():\n",
        "    print(f\"Please type the following affirmation: {AFFIRMATION}\")\n",
        "    user_input = input()\n",
        "\n",
        "    while user_input != AFFIRMATION:\n",
        "        print(\"Hmmm That was not the affirmation.\")\n",
        "        print(f\"Please type the following affirmation: {AFFIRMATION}\")\n",
        "        user_input = input()\n",
        "\n",
        "    print(\"That's right! :)\")\n",
        "\n",
        "if __name__ == '__main__':\n",
        "    main()\n"
      ],
      "metadata": {
        "colab": {
          "base_uri": "https://localhost:8080/"
        },
        "id": "ojoCLXhlgHrj",
        "outputId": "2f4352de-e497-446a-d059-f42ac05030e7"
      },
      "execution_count": 5,
      "outputs": [
        {
          "output_type": "stream",
          "name": "stdout",
          "text": [
            "Please type the following affirmation: I am capable of doing anything I put my mind to.\n",
            "asfgdg\n",
            "Hmmm That was not the affirmation.\n",
            "Please type the following affirmation: I am capable of doing anything I put my mind to.\n",
            "I am capable of doing anything I put my mind to.\n",
            "That's right! :)\n"
          ]
        }
      ]
    },
    {
      "cell_type": "code",
      "source": [
        "def main():\n",
        "    for i in range(10, 0, -1):  # Start at 10, end before 0, step -1\n",
        "        print(i, end=\" \")\n",
        "    print(\"Liftoff!\")\n",
        "\n",
        "if __name__ == '__main__':\n",
        "    main()\n"
      ],
      "metadata": {
        "colab": {
          "base_uri": "https://localhost:8080/"
        },
        "id": "w7YBSb99icey",
        "outputId": "d9407b1f-473e-41e4-d716-1eb83f640764"
      },
      "execution_count": 6,
      "outputs": [
        {
          "output_type": "stream",
          "name": "stdout",
          "text": [
            "10 9 8 7 6 5 4 3 2 1 Liftoff!\n"
          ]
        }
      ]
    },
    {
      "cell_type": "code",
      "source": [
        "def main():\n",
        "    curr_value = int(input(\"Enter a number: \"))\n",
        "\n",
        "    while curr_value < 100:\n",
        "        curr_value = curr_value * 2\n",
        "        print(curr_value, end=\" \")\n",
        "\n",
        "if __name__ == '__main__':\n",
        "    main()\n"
      ],
      "metadata": {
        "colab": {
          "base_uri": "https://localhost:8080/"
        },
        "id": "FLbF9OD3jBDu",
        "outputId": "c4b5eb6c-ea13-46ff-eb10-ea24f0be0d63"
      },
      "execution_count": 7,
      "outputs": [
        {
          "output_type": "stream",
          "name": "stdout",
          "text": [
            "Enter a number: 7\n",
            "14 28 56 112 "
          ]
        }
      ]
    }
  ]
}